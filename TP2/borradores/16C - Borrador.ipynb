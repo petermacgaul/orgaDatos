{
 "cells": [
  {
   "cell_type": "markdown",
   "metadata": {},
   "source": [
    "# Probando XGBoost"
   ]
  },
  {
   "cell_type": "code",
   "execution_count": 1,
   "metadata": {},
   "outputs": [],
   "source": [
    "import pandas as pd\n",
    "import numpy as np\n",
    "import seaborn as sns\n",
    "import matplotlib\n",
    "import matplotlib.pyplot as plt\n",
    "import warnings\n",
    "warnings.filterwarnings('ignore')\n",
    "\n",
    "%matplotlib inline\n",
    "sns.set(style='white', context='notebook', palette='deep')\n",
    "%config InlineBackend.figure_format = 'png' #set 'png' here when working on notebook\n",
    "pd.set_option('display.max_columns', 50)\n"
   ]
  },
  {
   "cell_type": "code",
   "execution_count": 2,
   "metadata": {},
   "outputs": [],
   "source": [
    "plt.style.use('default')\n",
    "plt.rcParams['figure.figsize'] = [12.0,8.0]"
   ]
  },
  {
   "cell_type": "code",
   "execution_count": 3,
   "metadata": {},
   "outputs": [],
   "source": [
    "df_train = pd.read_csv(\"../data/palabras.csv\")"
   ]
  },
  {
   "cell_type": "code",
   "execution_count": 4,
   "metadata": {},
   "outputs": [],
   "source": [
    "def fill_m2(df):\n",
    "    df['metrostotales'].fillna(df['metroscubiertos'], inplace=True)\n",
    "    df['metroscubiertos'].fillna(df['metrostotales'], inplace=True)\n",
    "    \n",
    "    return df"
   ]
  },
  {
   "cell_type": "code",
   "execution_count": 5,
   "metadata": {},
   "outputs": [
    {
     "data": {
      "text/html": [
       "<div>\n",
       "<style scoped>\n",
       "    .dataframe tbody tr th:only-of-type {\n",
       "        vertical-align: middle;\n",
       "    }\n",
       "\n",
       "    .dataframe tbody tr th {\n",
       "        vertical-align: top;\n",
       "    }\n",
       "\n",
       "    .dataframe thead th {\n",
       "        text-align: right;\n",
       "    }\n",
       "</style>\n",
       "<table border=\"1\" class=\"dataframe\">\n",
       "  <thead>\n",
       "    <tr style=\"text-align: right;\">\n",
       "      <th></th>\n",
       "      <th>id</th>\n",
       "      <th>titulo</th>\n",
       "      <th>descripcion</th>\n",
       "      <th>tipodepropiedad</th>\n",
       "      <th>direccion</th>\n",
       "      <th>ciudad</th>\n",
       "      <th>provincia</th>\n",
       "      <th>antiguedad</th>\n",
       "      <th>habitaciones</th>\n",
       "      <th>garages</th>\n",
       "      <th>banos</th>\n",
       "      <th>metroscubiertos</th>\n",
       "      <th>metrostotales</th>\n",
       "      <th>idzona</th>\n",
       "      <th>fecha</th>\n",
       "      <th>gimnasio</th>\n",
       "      <th>usosmultiples</th>\n",
       "      <th>piscina</th>\n",
       "      <th>escuelascercanas</th>\n",
       "      <th>centroscomercialescercanos</th>\n",
       "      <th>precio</th>\n",
       "      <th>anio</th>\n",
       "      <th>mes</th>\n",
       "      <th>dia</th>\n",
       "      <th>palabra_hermosa</th>\n",
       "      <th>...</th>\n",
       "      <th>palabra_servicios</th>\n",
       "      <th>palabra_servicio</th>\n",
       "      <th>palabra_estilo</th>\n",
       "      <th>palabra_frente</th>\n",
       "      <th>palabra_vista</th>\n",
       "      <th>palabra_visitas</th>\n",
       "      <th>palabra_parque</th>\n",
       "      <th>palabra_areas</th>\n",
       "      <th>palabra_estrenar</th>\n",
       "      <th>palabra_infonavit</th>\n",
       "      <th>palabra_residencial</th>\n",
       "      <th>palabra_escuela</th>\n",
       "      <th>palabra_exclusivo</th>\n",
       "      <th>palabra_lujo</th>\n",
       "      <th>palabra_esquina</th>\n",
       "      <th>palabra_refaccion</th>\n",
       "      <th>palabra_country</th>\n",
       "      <th>palabra_barra</th>\n",
       "      <th>palabra_lavado</th>\n",
       "      <th>palabra_renta</th>\n",
       "      <th>palabra_super</th>\n",
       "      <th>palabra_lago</th>\n",
       "      <th>palabra_bosque</th>\n",
       "      <th>palabra_avenida</th>\n",
       "      <th>palabra_hospital</th>\n",
       "    </tr>\n",
       "  </thead>\n",
       "  <tbody>\n",
       "    <tr>\n",
       "      <th>0</th>\n",
       "      <td>254099</td>\n",
       "      <td>depto. tipo a-402</td>\n",
       "      <td>depto. interior de 80.15m2, consta de sala com...</td>\n",
       "      <td>Apartamento</td>\n",
       "      <td>Avenida Division del Norte 2005</td>\n",
       "      <td>Benito Juárez</td>\n",
       "      <td>Distrito Federal</td>\n",
       "      <td>NaN</td>\n",
       "      <td>2.0</td>\n",
       "      <td>1.0</td>\n",
       "      <td>2.0</td>\n",
       "      <td>80.0</td>\n",
       "      <td>80.0</td>\n",
       "      <td>23533.0</td>\n",
       "      <td>2015-08-23</td>\n",
       "      <td>0.0</td>\n",
       "      <td>0.0</td>\n",
       "      <td>0.0</td>\n",
       "      <td>0.0</td>\n",
       "      <td>0.0</td>\n",
       "      <td>2273000.0</td>\n",
       "      <td>2015</td>\n",
       "      <td>8</td>\n",
       "      <td>23</td>\n",
       "      <td>0</td>\n",
       "      <td>...</td>\n",
       "      <td>0</td>\n",
       "      <td>0</td>\n",
       "      <td>0</td>\n",
       "      <td>0</td>\n",
       "      <td>0</td>\n",
       "      <td>0</td>\n",
       "      <td>0</td>\n",
       "      <td>1</td>\n",
       "      <td>0</td>\n",
       "      <td>0</td>\n",
       "      <td>0</td>\n",
       "      <td>0</td>\n",
       "      <td>0</td>\n",
       "      <td>0</td>\n",
       "      <td>0</td>\n",
       "      <td>0</td>\n",
       "      <td>0</td>\n",
       "      <td>0</td>\n",
       "      <td>1</td>\n",
       "      <td>0</td>\n",
       "      <td>0</td>\n",
       "      <td>0</td>\n",
       "      <td>0</td>\n",
       "      <td>1</td>\n",
       "      <td>0</td>\n",
       "    </tr>\n",
       "    <tr>\n",
       "      <th>1</th>\n",
       "      <td>53461</td>\n",
       "      <td>condominio horizontal en venta</td>\n",
       "      <td>&lt;p&gt;entre sonora y guerrero, atr&amp;aacute;s del h...</td>\n",
       "      <td>Casa en condominio</td>\n",
       "      <td>AV. MEXICO</td>\n",
       "      <td>La Magdalena Contreras</td>\n",
       "      <td>Distrito Federal</td>\n",
       "      <td>10.0</td>\n",
       "      <td>3.0</td>\n",
       "      <td>2.0</td>\n",
       "      <td>2.0</td>\n",
       "      <td>268.0</td>\n",
       "      <td>180.0</td>\n",
       "      <td>24514.0</td>\n",
       "      <td>2013-06-28</td>\n",
       "      <td>0.0</td>\n",
       "      <td>0.0</td>\n",
       "      <td>0.0</td>\n",
       "      <td>1.0</td>\n",
       "      <td>1.0</td>\n",
       "      <td>3600000.0</td>\n",
       "      <td>2013</td>\n",
       "      <td>6</td>\n",
       "      <td>28</td>\n",
       "      <td>0</td>\n",
       "      <td>...</td>\n",
       "      <td>0</td>\n",
       "      <td>1</td>\n",
       "      <td>0</td>\n",
       "      <td>0</td>\n",
       "      <td>0</td>\n",
       "      <td>0</td>\n",
       "      <td>0</td>\n",
       "      <td>0</td>\n",
       "      <td>0</td>\n",
       "      <td>0</td>\n",
       "      <td>0</td>\n",
       "      <td>0</td>\n",
       "      <td>0</td>\n",
       "      <td>0</td>\n",
       "      <td>0</td>\n",
       "      <td>0</td>\n",
       "      <td>0</td>\n",
       "      <td>0</td>\n",
       "      <td>0</td>\n",
       "      <td>0</td>\n",
       "      <td>0</td>\n",
       "      <td>0</td>\n",
       "      <td>0</td>\n",
       "      <td>0</td>\n",
       "      <td>1</td>\n",
       "    </tr>\n",
       "    <tr>\n",
       "      <th>2</th>\n",
       "      <td>247984</td>\n",
       "      <td>casa en venta urbi 3 recamaras tonala</td>\n",
       "      <td>descripcion \\nla mejor ubicacion residencial e...</td>\n",
       "      <td>Casa</td>\n",
       "      <td>Urbi Tonala</td>\n",
       "      <td>Tonalá</td>\n",
       "      <td>Jalisco</td>\n",
       "      <td>5.0</td>\n",
       "      <td>3.0</td>\n",
       "      <td>2.0</td>\n",
       "      <td>2.0</td>\n",
       "      <td>144.0</td>\n",
       "      <td>166.0</td>\n",
       "      <td>48551.0</td>\n",
       "      <td>2015-10-17</td>\n",
       "      <td>0.0</td>\n",
       "      <td>0.0</td>\n",
       "      <td>0.0</td>\n",
       "      <td>0.0</td>\n",
       "      <td>0.0</td>\n",
       "      <td>1200000.0</td>\n",
       "      <td>2015</td>\n",
       "      <td>10</td>\n",
       "      <td>17</td>\n",
       "      <td>1</td>\n",
       "      <td>...</td>\n",
       "      <td>0</td>\n",
       "      <td>1</td>\n",
       "      <td>0</td>\n",
       "      <td>0</td>\n",
       "      <td>0</td>\n",
       "      <td>0</td>\n",
       "      <td>1</td>\n",
       "      <td>1</td>\n",
       "      <td>0</td>\n",
       "      <td>0</td>\n",
       "      <td>1</td>\n",
       "      <td>1</td>\n",
       "      <td>0</td>\n",
       "      <td>0</td>\n",
       "      <td>0</td>\n",
       "      <td>0</td>\n",
       "      <td>0</td>\n",
       "      <td>0</td>\n",
       "      <td>0</td>\n",
       "      <td>0</td>\n",
       "      <td>0</td>\n",
       "      <td>0</td>\n",
       "      <td>0</td>\n",
       "      <td>0</td>\n",
       "      <td>1</td>\n",
       "    </tr>\n",
       "    <tr>\n",
       "      <th>3</th>\n",
       "      <td>209067</td>\n",
       "      <td>casa sola en toluca zinacantepec con credito i...</td>\n",
       "      <td>casa en privada con caseta de vigilancia casas...</td>\n",
       "      <td>Casa</td>\n",
       "      <td>IGNACIO MANUEL ALTAMIRANO 128</td>\n",
       "      <td>Zinacantepec</td>\n",
       "      <td>Edo. de México</td>\n",
       "      <td>1.0</td>\n",
       "      <td>2.0</td>\n",
       "      <td>1.0</td>\n",
       "      <td>1.0</td>\n",
       "      <td>63.0</td>\n",
       "      <td>67.0</td>\n",
       "      <td>53666.0</td>\n",
       "      <td>2012-03-09</td>\n",
       "      <td>0.0</td>\n",
       "      <td>0.0</td>\n",
       "      <td>0.0</td>\n",
       "      <td>1.0</td>\n",
       "      <td>1.0</td>\n",
       "      <td>650000.0</td>\n",
       "      <td>2012</td>\n",
       "      <td>3</td>\n",
       "      <td>9</td>\n",
       "      <td>0</td>\n",
       "      <td>...</td>\n",
       "      <td>0</td>\n",
       "      <td>0</td>\n",
       "      <td>0</td>\n",
       "      <td>0</td>\n",
       "      <td>0</td>\n",
       "      <td>0</td>\n",
       "      <td>0</td>\n",
       "      <td>1</td>\n",
       "      <td>0</td>\n",
       "      <td>1</td>\n",
       "      <td>0</td>\n",
       "      <td>1</td>\n",
       "      <td>0</td>\n",
       "      <td>0</td>\n",
       "      <td>0</td>\n",
       "      <td>0</td>\n",
       "      <td>0</td>\n",
       "      <td>0</td>\n",
       "      <td>0</td>\n",
       "      <td>0</td>\n",
       "      <td>0</td>\n",
       "      <td>0</td>\n",
       "      <td>0</td>\n",
       "      <td>1</td>\n",
       "      <td>0</td>\n",
       "    </tr>\n",
       "    <tr>\n",
       "      <th>4</th>\n",
       "      <td>185997</td>\n",
       "      <td>paseos del sol</td>\n",
       "      <td>bonito departamento en excelentes condiciones ...</td>\n",
       "      <td>Apartamento</td>\n",
       "      <td>PASEOS DEL SOL</td>\n",
       "      <td>Zapopan</td>\n",
       "      <td>Jalisco</td>\n",
       "      <td>10.0</td>\n",
       "      <td>2.0</td>\n",
       "      <td>1.0</td>\n",
       "      <td>1.0</td>\n",
       "      <td>95.0</td>\n",
       "      <td>95.0</td>\n",
       "      <td>47835.0</td>\n",
       "      <td>2016-06-07</td>\n",
       "      <td>0.0</td>\n",
       "      <td>0.0</td>\n",
       "      <td>0.0</td>\n",
       "      <td>0.0</td>\n",
       "      <td>0.0</td>\n",
       "      <td>1150000.0</td>\n",
       "      <td>2016</td>\n",
       "      <td>6</td>\n",
       "      <td>7</td>\n",
       "      <td>1</td>\n",
       "      <td>...</td>\n",
       "      <td>0</td>\n",
       "      <td>0</td>\n",
       "      <td>0</td>\n",
       "      <td>0</td>\n",
       "      <td>0</td>\n",
       "      <td>0</td>\n",
       "      <td>0</td>\n",
       "      <td>0</td>\n",
       "      <td>0</td>\n",
       "      <td>0</td>\n",
       "      <td>0</td>\n",
       "      <td>0</td>\n",
       "      <td>0</td>\n",
       "      <td>0</td>\n",
       "      <td>0</td>\n",
       "      <td>0</td>\n",
       "      <td>0</td>\n",
       "      <td>0</td>\n",
       "      <td>0</td>\n",
       "      <td>0</td>\n",
       "      <td>0</td>\n",
       "      <td>0</td>\n",
       "      <td>0</td>\n",
       "      <td>0</td>\n",
       "      <td>0</td>\n",
       "    </tr>\n",
       "  </tbody>\n",
       "</table>\n",
       "<p>5 rows × 78 columns</p>\n",
       "</div>"
      ],
      "text/plain": [
       "       id                                             titulo  \\\n",
       "0  254099                                  depto. tipo a-402   \n",
       "1   53461                     condominio horizontal en venta   \n",
       "2  247984              casa en venta urbi 3 recamaras tonala   \n",
       "3  209067  casa sola en toluca zinacantepec con credito i...   \n",
       "4  185997                                     paseos del sol   \n",
       "\n",
       "                                         descripcion     tipodepropiedad  \\\n",
       "0  depto. interior de 80.15m2, consta de sala com...         Apartamento   \n",
       "1  <p>entre sonora y guerrero, atr&aacute;s del h...  Casa en condominio   \n",
       "2  descripcion \\nla mejor ubicacion residencial e...                Casa   \n",
       "3  casa en privada con caseta de vigilancia casas...                Casa   \n",
       "4  bonito departamento en excelentes condiciones ...         Apartamento   \n",
       "\n",
       "                         direccion                  ciudad         provincia  \\\n",
       "0  Avenida Division del Norte 2005           Benito Juárez  Distrito Federal   \n",
       "1                       AV. MEXICO  La Magdalena Contreras  Distrito Federal   \n",
       "2                      Urbi Tonala                  Tonalá           Jalisco   \n",
       "3    IGNACIO MANUEL ALTAMIRANO 128            Zinacantepec    Edo. de México   \n",
       "4                  PASEOS DEL SOL                  Zapopan           Jalisco   \n",
       "\n",
       "   antiguedad  habitaciones  garages  banos  metroscubiertos  metrostotales  \\\n",
       "0         NaN           2.0      1.0    2.0             80.0           80.0   \n",
       "1        10.0           3.0      2.0    2.0            268.0          180.0   \n",
       "2         5.0           3.0      2.0    2.0            144.0          166.0   \n",
       "3         1.0           2.0      1.0    1.0             63.0           67.0   \n",
       "4        10.0           2.0      1.0    1.0             95.0           95.0   \n",
       "\n",
       "    idzona       fecha  gimnasio  usosmultiples  piscina  escuelascercanas  \\\n",
       "0  23533.0  2015-08-23       0.0            0.0      0.0               0.0   \n",
       "1  24514.0  2013-06-28       0.0            0.0      0.0               1.0   \n",
       "2  48551.0  2015-10-17       0.0            0.0      0.0               0.0   \n",
       "3  53666.0  2012-03-09       0.0            0.0      0.0               1.0   \n",
       "4  47835.0  2016-06-07       0.0            0.0      0.0               0.0   \n",
       "\n",
       "   centroscomercialescercanos     precio  anio  mes  dia  palabra_hermosa  \\\n",
       "0                         0.0  2273000.0  2015    8   23                0   \n",
       "1                         1.0  3600000.0  2013    6   28                0   \n",
       "2                         0.0  1200000.0  2015   10   17                1   \n",
       "3                         1.0   650000.0  2012    3    9                0   \n",
       "4                         0.0  1150000.0  2016    6    7                1   \n",
       "\n",
       "         ...         palabra_servicios  palabra_servicio  palabra_estilo  \\\n",
       "0        ...                         0                 0               0   \n",
       "1        ...                         0                 1               0   \n",
       "2        ...                         0                 1               0   \n",
       "3        ...                         0                 0               0   \n",
       "4        ...                         0                 0               0   \n",
       "\n",
       "   palabra_frente  palabra_vista  palabra_visitas  palabra_parque  \\\n",
       "0               0              0                0               0   \n",
       "1               0              0                0               0   \n",
       "2               0              0                0               1   \n",
       "3               0              0                0               0   \n",
       "4               0              0                0               0   \n",
       "\n",
       "   palabra_areas  palabra_estrenar  palabra_infonavit  palabra_residencial  \\\n",
       "0              1                 0                  0                    0   \n",
       "1              0                 0                  0                    0   \n",
       "2              1                 0                  0                    1   \n",
       "3              1                 0                  1                    0   \n",
       "4              0                 0                  0                    0   \n",
       "\n",
       "   palabra_escuela  palabra_exclusivo  palabra_lujo  palabra_esquina  \\\n",
       "0                0                  0             0                0   \n",
       "1                0                  0             0                0   \n",
       "2                1                  0             0                0   \n",
       "3                1                  0             0                0   \n",
       "4                0                  0             0                0   \n",
       "\n",
       "   palabra_refaccion  palabra_country  palabra_barra  palabra_lavado  \\\n",
       "0                  0                0              0               1   \n",
       "1                  0                0              0               0   \n",
       "2                  0                0              0               0   \n",
       "3                  0                0              0               0   \n",
       "4                  0                0              0               0   \n",
       "\n",
       "   palabra_renta  palabra_super  palabra_lago  palabra_bosque  \\\n",
       "0              0              0             0               0   \n",
       "1              0              0             0               0   \n",
       "2              0              0             0               0   \n",
       "3              0              0             0               0   \n",
       "4              0              0             0               0   \n",
       "\n",
       "   palabra_avenida  palabra_hospital  \n",
       "0                1                 0  \n",
       "1                0                 1  \n",
       "2                0                 1  \n",
       "3                1                 0  \n",
       "4                0                 0  \n",
       "\n",
       "[5 rows x 78 columns]"
      ]
     },
     "execution_count": 5,
     "metadata": {},
     "output_type": "execute_result"
    }
   ],
   "source": [
    "df_train.head()"
   ]
  },
  {
   "cell_type": "markdown",
   "metadata": {},
   "source": [
    "## Pre-processing"
   ]
  },
  {
   "cell_type": "code",
   "execution_count": 25,
   "metadata": {},
   "outputs": [],
   "source": [
    "from sklearn.model_selection import train_test_split\n",
    "from sklearn.linear_model import LogisticRegression\n",
    "from sklearn.preprocessing import OneHotEncoder \n",
    "from sklearn.preprocessing import Imputer\n",
    "from sklearn.metrics import mean_absolute_error\n",
    "from sklearn.metrics import mean_squared_error"
   ]
  },
  {
   "cell_type": "code",
   "execution_count": 54,
   "metadata": {},
   "outputs": [],
   "source": [
    "def preprocess(df, OHE, BE, encodingType):\n",
    "    features = df.copy()\n",
    "    drop_cols = getDropCols()\n",
    "    features = features.drop(drop_cols, axis=1)\n",
    "\n",
    "    if (encodingType == 'train'):\n",
    "        features = OHE.fit_transform(features)\n",
    "        features = BE.fit_transform(features)\n",
    "    else:\n",
    "        features = OHE.transform(features)\n",
    "        features = BE.transform(features)\n",
    "        \n",
    "    drop_cols = getOneHotCols()\n",
    "    drop_cols.extend(getBinaryCols())\n",
    "\n",
    "    display(drop_cols)\n",
    "                \n",
    "    #features = features.drop(drop_cols, axis=1)\n",
    "    \n",
    "    features = fill_m2(features)\n",
    "    \n",
    "    features_with_nans = features.columns[features.isna().any()].tolist()\n",
    "    \n",
    "    for feature in features_with_nans:\n",
    "        features[feature] = features[feature].fillna(0)\n",
    "        \n",
    "    #imp = Imputer()\n",
    "    #imp_cols = ['antiguedad', 'banos', 'habitaciones', 'garages']\n",
    "    #X_train[imp_cols] = imp.fit_transform(X_train[imp_cols])\n",
    "        \n",
    "    return features    "
   ]
  },
  {
   "cell_type": "code",
   "execution_count": 49,
   "metadata": {},
   "outputs": [
    {
     "data": {
      "text/plain": [
       "None"
      ]
     },
     "metadata": {},
     "output_type": "display_data"
    }
   ],
   "source": [
    "display(getOneHotCols().extend(getBinaryCols()))"
   ]
  },
  {
   "cell_type": "code",
   "execution_count": 43,
   "metadata": {},
   "outputs": [],
   "source": [
    "def getDropCols():\n",
    "    return ['titulo', 'descripcion', 'direccion', 'id', 'anio', 'dia', 'mes', 'fecha'] # temporal\n",
    "\n",
    "def getOneHotCols():\n",
    "    return ['tipodepropiedad', 'provincia']\n",
    "\n",
    "def getBinaryCols():\n",
    "    return ['ciudad', 'idzona']"
   ]
  },
  {
   "cell_type": "code",
   "execution_count": 35,
   "metadata": {},
   "outputs": [],
   "source": [
    "import category_encoders as ce\n",
    "\n",
    "OHE = ce.OneHotEncoder(cols=getOneHotCols(), handle_unknown='ignore', use_cat_names=True)\n",
    "BE = ce.BinaryEncoder(cols=getBinaryCols(), handle_unknown='ignore')"
   ]
  },
  {
   "cell_type": "code",
   "execution_count": 55,
   "metadata": {},
   "outputs": [
    {
     "data": {
      "text/plain": [
       "['tipodepropiedad', 'provincia', 'ciudad', 'idzona']"
      ]
     },
     "metadata": {},
     "output_type": "display_data"
    },
    {
     "data": {
      "text/plain": [
       "['tipodepropiedad', 'provincia', 'ciudad', 'idzona']"
      ]
     },
     "metadata": {},
     "output_type": "display_data"
    }
   ],
   "source": [
    "X = df_train.drop(\"precio\", axis=1)\n",
    "y = df_train['precio']\n",
    "X_train, X_test, y_train, y_test = train_test_split(X, y, test_size=0.25, random_state=42)\n",
    "\n",
    "X_train = preprocess(X_train, OHE, BE, 'train')\n",
    "X_test = preprocess(X_test, OHE, BE, 'test')"
   ]
  },
  {
   "cell_type": "code",
   "execution_count": 12,
   "metadata": {},
   "outputs": [],
   "source": [
    "from category_encoders import BinaryEncoder"
   ]
  },
  {
   "cell_type": "code",
   "execution_count": 56,
   "metadata": {},
   "outputs": [
    {
     "name": "stdout",
     "output_type": "stream",
     "text": [
      "Original shapes: X=(240000, 77) y=(240000,)\n",
      "Train shapes: X=(180000, 149) y=(180000,)\n",
      "Test  shapes: X=(60000, 149)  y=(60000,)\n"
     ]
    }
   ],
   "source": [
    "print(f\"Original shapes: X={X.shape} y={y.shape}\")\n",
    "print(f\"Train shapes: X={X_train.shape} y={y_train.shape}\")\n",
    "print(f\"Test  shapes: X={X_test.shape}  y={y_test.shape}\")"
   ]
  },
  {
   "cell_type": "markdown",
   "metadata": {},
   "source": [
    "## Training"
   ]
  },
  {
   "cell_type": "code",
   "execution_count": 57,
   "metadata": {},
   "outputs": [],
   "source": [
    "from xgboost import XGBRegressor"
   ]
  },
  {
   "cell_type": "code",
   "execution_count": 62,
   "metadata": {},
   "outputs": [],
   "source": [
    "xgb_model = XGBRegressor(n_estimators=400,max_depth=2,n_jobs=-1, learning_rate=0.01, objective=\"reg:squarederror\")\n"
   ]
  },
  {
   "cell_type": "code",
   "execution_count": 63,
   "metadata": {},
   "outputs": [
    {
     "data": {
      "text/plain": [
       "XGBRegressor(base_score=0.5, booster='gbtree', colsample_bylevel=1,\n",
       "       colsample_bynode=1, colsample_bytree=1, gamma=0,\n",
       "       importance_type='gain', learning_rate=0.01, max_delta_step=0,\n",
       "       max_depth=2, min_child_weight=1, missing=None, n_estimators=400,\n",
       "       n_jobs=-1, nthread=None, objective='reg:squarederror',\n",
       "       random_state=0, reg_alpha=0, reg_lambda=1, scale_pos_weight=1,\n",
       "       seed=None, silent=None, subsample=1, verbosity=1)"
      ]
     },
     "execution_count": 63,
     "metadata": {},
     "output_type": "execute_result"
    }
   ],
   "source": [
    "xgb_model.fit(X_train, y_train, eval_metric=\"mae\")"
   ]
  },
  {
   "cell_type": "code",
   "execution_count": 24,
   "metadata": {},
   "outputs": [],
   "source": [
    "# Matriz de correlaciones como heatmap\n",
    "#plt.figure(figsize=(15, 15))\n",
    "#sns.heatmap(df_train.corr(), square=True, fmt='.2f');"
   ]
  },
  {
   "cell_type": "markdown",
   "metadata": {},
   "source": [
    "## Predicciones"
   ]
  },
  {
   "cell_type": "code",
   "execution_count": 64,
   "metadata": {},
   "outputs": [],
   "source": [
    "def predecir(model, train_features, train_labels, test_features, test_labels):\n",
    "    predict = model.predict(test_features)\n",
    "    error = mean_absolute_error(test_labels, predict)\n",
    "    score = model.score(test_features,test_labels)\n",
    "    \n",
    "    print('Entrenamiento: {:0.4f}%'.format(model.score(train_features, train_labels)*100))\n",
    "    print('Testeo: {:0.4f}%.'.format(score*100))\n",
    "    print('Mean abs error: {:0.4f}.'.format(error))"
   ]
  },
  {
   "cell_type": "code",
   "execution_count": 65,
   "metadata": {},
   "outputs": [
    {
     "name": "stdout",
     "output_type": "stream",
     "text": [
      "Entrenamiento: 57.4138%\n",
      "Testeo: 57.0741%.\n",
      "Mean abs error: 914296.8691.\n"
     ]
    }
   ],
   "source": [
    "predecir(xgb_model, X_train, y_train, X_test, y_test)"
   ]
  },
  {
   "cell_type": "code",
   "execution_count": 29,
   "metadata": {},
   "outputs": [],
   "source": [
    "\n",
    "#importancia = xgb_model.feature_importances_\n",
    "#ax = plt.barh(X_train.columns, xgb_model.feature_importances_)"
   ]
  },
  {
   "cell_type": "code",
   "execution_count": 66,
   "metadata": {},
   "outputs": [
    {
     "data": {
      "text/plain": [
       "<matplotlib.axes._subplots.AxesSubplot at 0x12d426cd0>"
      ]
     },
     "execution_count": 66,
     "metadata": {},
     "output_type": "execute_result"
    },
    {
     "data": {
      "image/png": "[encoded data removed]",
      "text/plain": [
       "<Figure size 1200x800 with 1 Axes>"
      ]
     },
     "metadata": {},
     "output_type": "display_data"
    }
   ],
   "source": [
    "from xgboost import plot_importance\n",
    "\n",
    "plot_importance(xgb_model)"
   ]
  },
  {
   "cell_type": "code",
   "execution_count": null,
   "metadata": {},
   "outputs": [],
   "source": []
  }
 ],
 "metadata": {
  "kernelspec": {
   "display_name": "Python 3",
   "language": "python",
   "name": "python3"
  },
  "language_info": {
   "codemirror_mode": {
    "name": "ipython",
    "version": 3
   },
   "file_extension": ".py",
   "mimetype": "text/x-python",
   "name": "python",
   "nbconvert_exporter": "python",
   "pygments_lexer": "ipython3",
   "version": "3.7.4"
  }
 },
 "nbformat": 4,
 "nbformat_minor": 2
}
