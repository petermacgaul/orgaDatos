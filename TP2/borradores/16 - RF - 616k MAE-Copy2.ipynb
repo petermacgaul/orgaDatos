{
 "cells": [
  {
   "cell_type": "markdown",
   "metadata": {},
   "source": [
    "# Probando RF sin tunear"
   ]
  },
  {
   "cell_type": "code",
   "execution_count": 1,
   "metadata": {},
   "outputs": [],
   "source": [
    "import pandas as pd\n",
    "import numpy as np\n",
    "import seaborn as sns\n",
    "import matplotlib\n",
    "import matplotlib.pyplot as plt\n",
    "import warnings\n",
    "warnings.filterwarnings('ignore')\n",
    "\n",
    "%matplotlib inline\n",
    "sns.set(style='white', context='notebook', palette='deep')\n",
    "%config InlineBackend.figure_format = 'png' #set 'png' here when working on notebook\n",
    "pd.set_option('display.max_columns', 50)\n"
   ]
  },
  {
   "cell_type": "code",
   "execution_count": 2,
   "metadata": {},
   "outputs": [],
   "source": [
    "plt.style.use('default')\n",
    "plt.rcParams['figure.figsize'] = [12.0,8.0]"
   ]
  },
  {
   "cell_type": "code",
   "execution_count": 3,
   "metadata": {},
   "outputs": [],
   "source": [
    "df_train = pd.read_csv(\"../data/palabras.csv\")"
   ]
  },
  {
   "cell_type": "code",
   "execution_count": 4,
   "metadata": {},
   "outputs": [],
   "source": [
    "df_train['fecha'] = pd.to_datetime(df_train['fecha'], errors='coerce').astype(int) / 10**9"
   ]
  },
  {
   "cell_type": "code",
   "execution_count": 5,
   "metadata": {},
   "outputs": [],
   "source": [
    "def fill_m2(df):\n",
    "    df['metrostotales'].fillna(df['metroscubiertos'], inplace=True)\n",
    "    df['metroscubiertos'].fillna(df['metrostotales'], inplace=True)\n",
    "    \n",
    "    return df"
   ]
  },
  {
   "cell_type": "code",
   "execution_count": 6,
   "metadata": {},
   "outputs": [
    {
     "data": {
      "text/html": [
       "<div>\n",
       "<style scoped>\n",
       "    .dataframe tbody tr th:only-of-type {\n",
       "        vertical-align: middle;\n",
       "    }\n",
       "\n",
       "    .dataframe tbody tr th {\n",
       "        vertical-align: top;\n",
       "    }\n",
       "\n",
       "    .dataframe thead th {\n",
       "        text-align: right;\n",
       "    }\n",
       "</style>\n",
       "<table border=\"1\" class=\"dataframe\">\n",
       "  <thead>\n",
       "    <tr style=\"text-align: right;\">\n",
       "      <th></th>\n",
       "      <th>id</th>\n",
       "      <th>titulo</th>\n",
       "      <th>descripcion</th>\n",
       "      <th>tipodepropiedad</th>\n",
       "      <th>direccion</th>\n",
       "      <th>ciudad</th>\n",
       "      <th>provincia</th>\n",
       "      <th>antiguedad</th>\n",
       "      <th>habitaciones</th>\n",
       "      <th>garages</th>\n",
       "      <th>banos</th>\n",
       "      <th>metroscubiertos</th>\n",
       "      <th>metrostotales</th>\n",
       "      <th>idzona</th>\n",
       "      <th>fecha</th>\n",
       "      <th>gimnasio</th>\n",
       "      <th>usosmultiples</th>\n",
       "      <th>piscina</th>\n",
       "      <th>escuelascercanas</th>\n",
       "      <th>centroscomercialescercanos</th>\n",
       "      <th>precio</th>\n",
       "      <th>anio</th>\n",
       "      <th>mes</th>\n",
       "      <th>dia</th>\n",
       "      <th>palabra_hermosa</th>\n",
       "      <th>...</th>\n",
       "      <th>palabra_servicios</th>\n",
       "      <th>palabra_servicio</th>\n",
       "      <th>palabra_estilo</th>\n",
       "      <th>palabra_frente</th>\n",
       "      <th>palabra_vista</th>\n",
       "      <th>palabra_visitas</th>\n",
       "      <th>palabra_parque</th>\n",
       "      <th>palabra_areas</th>\n",
       "      <th>palabra_estrenar</th>\n",
       "      <th>palabra_infonavit</th>\n",
       "      <th>palabra_residencial</th>\n",
       "      <th>palabra_escuela</th>\n",
       "      <th>palabra_exclusivo</th>\n",
       "      <th>palabra_lujo</th>\n",
       "      <th>palabra_esquina</th>\n",
       "      <th>palabra_refaccion</th>\n",
       "      <th>palabra_country</th>\n",
       "      <th>palabra_barra</th>\n",
       "      <th>palabra_lavado</th>\n",
       "      <th>palabra_renta</th>\n",
       "      <th>palabra_super</th>\n",
       "      <th>palabra_lago</th>\n",
       "      <th>palabra_bosque</th>\n",
       "      <th>palabra_avenida</th>\n",
       "      <th>palabra_hospital</th>\n",
       "    </tr>\n",
       "  </thead>\n",
       "  <tbody>\n",
       "    <tr>\n",
       "      <th>0</th>\n",
       "      <td>254099</td>\n",
       "      <td>depto. tipo a-402</td>\n",
       "      <td>depto. interior de 80.15m2, consta de sala com...</td>\n",
       "      <td>Apartamento</td>\n",
       "      <td>Avenida Division del Norte 2005</td>\n",
       "      <td>Benito Juárez</td>\n",
       "      <td>Distrito Federal</td>\n",
       "      <td>NaN</td>\n",
       "      <td>2.0</td>\n",
       "      <td>1.0</td>\n",
       "      <td>2.0</td>\n",
       "      <td>80.0</td>\n",
       "      <td>80.0</td>\n",
       "      <td>23533.0</td>\n",
       "      <td>1.440288e+09</td>\n",
       "      <td>0.0</td>\n",
       "      <td>0.0</td>\n",
       "      <td>0.0</td>\n",
       "      <td>0.0</td>\n",
       "      <td>0.0</td>\n",
       "      <td>2273000.0</td>\n",
       "      <td>2015</td>\n",
       "      <td>8</td>\n",
       "      <td>23</td>\n",
       "      <td>0</td>\n",
       "      <td>...</td>\n",
       "      <td>0</td>\n",
       "      <td>0</td>\n",
       "      <td>0</td>\n",
       "      <td>0</td>\n",
       "      <td>0</td>\n",
       "      <td>0</td>\n",
       "      <td>0</td>\n",
       "      <td>1</td>\n",
       "      <td>0</td>\n",
       "      <td>0</td>\n",
       "      <td>0</td>\n",
       "      <td>0</td>\n",
       "      <td>0</td>\n",
       "      <td>0</td>\n",
       "      <td>0</td>\n",
       "      <td>0</td>\n",
       "      <td>0</td>\n",
       "      <td>0</td>\n",
       "      <td>1</td>\n",
       "      <td>0</td>\n",
       "      <td>0</td>\n",
       "      <td>0</td>\n",
       "      <td>0</td>\n",
       "      <td>1</td>\n",
       "      <td>0</td>\n",
       "    </tr>\n",
       "    <tr>\n",
       "      <th>1</th>\n",
       "      <td>53461</td>\n",
       "      <td>condominio horizontal en venta</td>\n",
       "      <td>&lt;p&gt;entre sonora y guerrero, atr&amp;aacute;s del h...</td>\n",
       "      <td>Casa en condominio</td>\n",
       "      <td>AV. MEXICO</td>\n",
       "      <td>La Magdalena Contreras</td>\n",
       "      <td>Distrito Federal</td>\n",
       "      <td>10.0</td>\n",
       "      <td>3.0</td>\n",
       "      <td>2.0</td>\n",
       "      <td>2.0</td>\n",
       "      <td>268.0</td>\n",
       "      <td>180.0</td>\n",
       "      <td>24514.0</td>\n",
       "      <td>1.372378e+09</td>\n",
       "      <td>0.0</td>\n",
       "      <td>0.0</td>\n",
       "      <td>0.0</td>\n",
       "      <td>1.0</td>\n",
       "      <td>1.0</td>\n",
       "      <td>3600000.0</td>\n",
       "      <td>2013</td>\n",
       "      <td>6</td>\n",
       "      <td>28</td>\n",
       "      <td>0</td>\n",
       "      <td>...</td>\n",
       "      <td>0</td>\n",
       "      <td>1</td>\n",
       "      <td>0</td>\n",
       "      <td>0</td>\n",
       "      <td>0</td>\n",
       "      <td>0</td>\n",
       "      <td>0</td>\n",
       "      <td>0</td>\n",
       "      <td>0</td>\n",
       "      <td>0</td>\n",
       "      <td>0</td>\n",
       "      <td>0</td>\n",
       "      <td>0</td>\n",
       "      <td>0</td>\n",
       "      <td>0</td>\n",
       "      <td>0</td>\n",
       "      <td>0</td>\n",
       "      <td>0</td>\n",
       "      <td>0</td>\n",
       "      <td>0</td>\n",
       "      <td>0</td>\n",
       "      <td>0</td>\n",
       "      <td>0</td>\n",
       "      <td>0</td>\n",
       "      <td>1</td>\n",
       "    </tr>\n",
       "    <tr>\n",
       "      <th>2</th>\n",
       "      <td>247984</td>\n",
       "      <td>casa en venta urbi 3 recamaras tonala</td>\n",
       "      <td>descripcion \\nla mejor ubicacion residencial e...</td>\n",
       "      <td>Casa</td>\n",
       "      <td>Urbi Tonala</td>\n",
       "      <td>Tonalá</td>\n",
       "      <td>Jalisco</td>\n",
       "      <td>5.0</td>\n",
       "      <td>3.0</td>\n",
       "      <td>2.0</td>\n",
       "      <td>2.0</td>\n",
       "      <td>144.0</td>\n",
       "      <td>166.0</td>\n",
       "      <td>48551.0</td>\n",
       "      <td>1.445040e+09</td>\n",
       "      <td>0.0</td>\n",
       "      <td>0.0</td>\n",
       "      <td>0.0</td>\n",
       "      <td>0.0</td>\n",
       "      <td>0.0</td>\n",
       "      <td>1200000.0</td>\n",
       "      <td>2015</td>\n",
       "      <td>10</td>\n",
       "      <td>17</td>\n",
       "      <td>1</td>\n",
       "      <td>...</td>\n",
       "      <td>0</td>\n",
       "      <td>1</td>\n",
       "      <td>0</td>\n",
       "      <td>0</td>\n",
       "      <td>0</td>\n",
       "      <td>0</td>\n",
       "      <td>1</td>\n",
       "      <td>1</td>\n",
       "      <td>0</td>\n",
       "      <td>0</td>\n",
       "      <td>1</td>\n",
       "      <td>1</td>\n",
       "      <td>0</td>\n",
       "      <td>0</td>\n",
       "      <td>0</td>\n",
       "      <td>0</td>\n",
       "      <td>0</td>\n",
       "      <td>0</td>\n",
       "      <td>0</td>\n",
       "      <td>0</td>\n",
       "      <td>0</td>\n",
       "      <td>0</td>\n",
       "      <td>0</td>\n",
       "      <td>0</td>\n",
       "      <td>1</td>\n",
       "    </tr>\n",
       "    <tr>\n",
       "      <th>3</th>\n",
       "      <td>209067</td>\n",
       "      <td>casa sola en toluca zinacantepec con credito i...</td>\n",
       "      <td>casa en privada con caseta de vigilancia casas...</td>\n",
       "      <td>Casa</td>\n",
       "      <td>IGNACIO MANUEL ALTAMIRANO 128</td>\n",
       "      <td>Zinacantepec</td>\n",
       "      <td>Edo. de México</td>\n",
       "      <td>1.0</td>\n",
       "      <td>2.0</td>\n",
       "      <td>1.0</td>\n",
       "      <td>1.0</td>\n",
       "      <td>63.0</td>\n",
       "      <td>67.0</td>\n",
       "      <td>53666.0</td>\n",
       "      <td>1.331251e+09</td>\n",
       "      <td>0.0</td>\n",
       "      <td>0.0</td>\n",
       "      <td>0.0</td>\n",
       "      <td>1.0</td>\n",
       "      <td>1.0</td>\n",
       "      <td>650000.0</td>\n",
       "      <td>2012</td>\n",
       "      <td>3</td>\n",
       "      <td>9</td>\n",
       "      <td>0</td>\n",
       "      <td>...</td>\n",
       "      <td>0</td>\n",
       "      <td>0</td>\n",
       "      <td>0</td>\n",
       "      <td>0</td>\n",
       "      <td>0</td>\n",
       "      <td>0</td>\n",
       "      <td>0</td>\n",
       "      <td>1</td>\n",
       "      <td>0</td>\n",
       "      <td>1</td>\n",
       "      <td>0</td>\n",
       "      <td>1</td>\n",
       "      <td>0</td>\n",
       "      <td>0</td>\n",
       "      <td>0</td>\n",
       "      <td>0</td>\n",
       "      <td>0</td>\n",
       "      <td>0</td>\n",
       "      <td>0</td>\n",
       "      <td>0</td>\n",
       "      <td>0</td>\n",
       "      <td>0</td>\n",
       "      <td>0</td>\n",
       "      <td>1</td>\n",
       "      <td>0</td>\n",
       "    </tr>\n",
       "    <tr>\n",
       "      <th>4</th>\n",
       "      <td>185997</td>\n",
       "      <td>paseos del sol</td>\n",
       "      <td>bonito departamento en excelentes condiciones ...</td>\n",
       "      <td>Apartamento</td>\n",
       "      <td>PASEOS DEL SOL</td>\n",
       "      <td>Zapopan</td>\n",
       "      <td>Jalisco</td>\n",
       "      <td>10.0</td>\n",
       "      <td>2.0</td>\n",
       "      <td>1.0</td>\n",
       "      <td>1.0</td>\n",
       "      <td>95.0</td>\n",
       "      <td>95.0</td>\n",
       "      <td>47835.0</td>\n",
       "      <td>1.465258e+09</td>\n",
       "      <td>0.0</td>\n",
       "      <td>0.0</td>\n",
       "      <td>0.0</td>\n",
       "      <td>0.0</td>\n",
       "      <td>0.0</td>\n",
       "      <td>1150000.0</td>\n",
       "      <td>2016</td>\n",
       "      <td>6</td>\n",
       "      <td>7</td>\n",
       "      <td>1</td>\n",
       "      <td>...</td>\n",
       "      <td>0</td>\n",
       "      <td>0</td>\n",
       "      <td>0</td>\n",
       "      <td>0</td>\n",
       "      <td>0</td>\n",
       "      <td>0</td>\n",
       "      <td>0</td>\n",
       "      <td>0</td>\n",
       "      <td>0</td>\n",
       "      <td>0</td>\n",
       "      <td>0</td>\n",
       "      <td>0</td>\n",
       "      <td>0</td>\n",
       "      <td>0</td>\n",
       "      <td>0</td>\n",
       "      <td>0</td>\n",
       "      <td>0</td>\n",
       "      <td>0</td>\n",
       "      <td>0</td>\n",
       "      <td>0</td>\n",
       "      <td>0</td>\n",
       "      <td>0</td>\n",
       "      <td>0</td>\n",
       "      <td>0</td>\n",
       "      <td>0</td>\n",
       "    </tr>\n",
       "  </tbody>\n",
       "</table>\n",
       "<p>5 rows × 78 columns</p>\n",
       "</div>"
      ],
      "text/plain": [
       "       id                                             titulo  \\\n",
       "0  254099                                  depto. tipo a-402   \n",
       "1   53461                     condominio horizontal en venta   \n",
       "2  247984              casa en venta urbi 3 recamaras tonala   \n",
       "3  209067  casa sola en toluca zinacantepec con credito i...   \n",
       "4  185997                                     paseos del sol   \n",
       "\n",
       "                                         descripcion     tipodepropiedad  \\\n",
       "0  depto. interior de 80.15m2, consta de sala com...         Apartamento   \n",
       "1  <p>entre sonora y guerrero, atr&aacute;s del h...  Casa en condominio   \n",
       "2  descripcion \\nla mejor ubicacion residencial e...                Casa   \n",
       "3  casa en privada con caseta de vigilancia casas...                Casa   \n",
       "4  bonito departamento en excelentes condiciones ...         Apartamento   \n",
       "\n",
       "                         direccion                  ciudad         provincia  \\\n",
       "0  Avenida Division del Norte 2005           Benito Juárez  Distrito Federal   \n",
       "1                       AV. MEXICO  La Magdalena Contreras  Distrito Federal   \n",
       "2                      Urbi Tonala                  Tonalá           Jalisco   \n",
       "3    IGNACIO MANUEL ALTAMIRANO 128            Zinacantepec    Edo. de México   \n",
       "4                  PASEOS DEL SOL                  Zapopan           Jalisco   \n",
       "\n",
       "   antiguedad  habitaciones  garages  banos  metroscubiertos  metrostotales  \\\n",
       "0         NaN           2.0      1.0    2.0             80.0           80.0   \n",
       "1        10.0           3.0      2.0    2.0            268.0          180.0   \n",
       "2         5.0           3.0      2.0    2.0            144.0          166.0   \n",
       "3         1.0           2.0      1.0    1.0             63.0           67.0   \n",
       "4        10.0           2.0      1.0    1.0             95.0           95.0   \n",
       "\n",
       "    idzona         fecha  gimnasio  usosmultiples  piscina  escuelascercanas  \\\n",
       "0  23533.0  1.440288e+09       0.0            0.0      0.0               0.0   \n",
       "1  24514.0  1.372378e+09       0.0            0.0      0.0               1.0   \n",
       "2  48551.0  1.445040e+09       0.0            0.0      0.0               0.0   \n",
       "3  53666.0  1.331251e+09       0.0            0.0      0.0               1.0   \n",
       "4  47835.0  1.465258e+09       0.0            0.0      0.0               0.0   \n",
       "\n",
       "   centroscomercialescercanos     precio  anio  mes  dia  palabra_hermosa  \\\n",
       "0                         0.0  2273000.0  2015    8   23                0   \n",
       "1                         1.0  3600000.0  2013    6   28                0   \n",
       "2                         0.0  1200000.0  2015   10   17                1   \n",
       "3                         1.0   650000.0  2012    3    9                0   \n",
       "4                         0.0  1150000.0  2016    6    7                1   \n",
       "\n",
       "         ...         palabra_servicios  palabra_servicio  palabra_estilo  \\\n",
       "0        ...                         0                 0               0   \n",
       "1        ...                         0                 1               0   \n",
       "2        ...                         0                 1               0   \n",
       "3        ...                         0                 0               0   \n",
       "4        ...                         0                 0               0   \n",
       "\n",
       "   palabra_frente  palabra_vista  palabra_visitas  palabra_parque  \\\n",
       "0               0              0                0               0   \n",
       "1               0              0                0               0   \n",
       "2               0              0                0               1   \n",
       "3               0              0                0               0   \n",
       "4               0              0                0               0   \n",
       "\n",
       "   palabra_areas  palabra_estrenar  palabra_infonavit  palabra_residencial  \\\n",
       "0              1                 0                  0                    0   \n",
       "1              0                 0                  0                    0   \n",
       "2              1                 0                  0                    1   \n",
       "3              1                 0                  1                    0   \n",
       "4              0                 0                  0                    0   \n",
       "\n",
       "   palabra_escuela  palabra_exclusivo  palabra_lujo  palabra_esquina  \\\n",
       "0                0                  0             0                0   \n",
       "1                0                  0             0                0   \n",
       "2                1                  0             0                0   \n",
       "3                1                  0             0                0   \n",
       "4                0                  0             0                0   \n",
       "\n",
       "   palabra_refaccion  palabra_country  palabra_barra  palabra_lavado  \\\n",
       "0                  0                0              0               1   \n",
       "1                  0                0              0               0   \n",
       "2                  0                0              0               0   \n",
       "3                  0                0              0               0   \n",
       "4                  0                0              0               0   \n",
       "\n",
       "   palabra_renta  palabra_super  palabra_lago  palabra_bosque  \\\n",
       "0              0              0             0               0   \n",
       "1              0              0             0               0   \n",
       "2              0              0             0               0   \n",
       "3              0              0             0               0   \n",
       "4              0              0             0               0   \n",
       "\n",
       "   palabra_avenida  palabra_hospital  \n",
       "0                1                 0  \n",
       "1                0                 1  \n",
       "2                0                 1  \n",
       "3                1                 0  \n",
       "4                0                 0  \n",
       "\n",
       "[5 rows x 78 columns]"
      ]
     },
     "execution_count": 6,
     "metadata": {},
     "output_type": "execute_result"
    }
   ],
   "source": [
    "df_train.head()"
   ]
  },
  {
   "cell_type": "markdown",
   "metadata": {},
   "source": [
    "## Pre-processing"
   ]
  },
  {
   "cell_type": "code",
   "execution_count": 7,
   "metadata": {},
   "outputs": [],
   "source": [
    "from sklearn.model_selection import train_test_split\n",
    "from sklearn.linear_model import LogisticRegression\n",
    "from sklearn.preprocessing import OneHotEncoder \n",
    "from sklearn.preprocessing import Imputer\n",
    "from sklearn.metrics import mean_absolute_error\n",
    "from sklearn.metrics import mean_squared_error"
   ]
  },
  {
   "cell_type": "code",
   "execution_count": 8,
   "metadata": {},
   "outputs": [],
   "source": [
    "def getDropCols():\n",
    "    return ['titulo', 'descripcion', 'direccion', 'id', 'dia', 'mes'] # temporal\n",
    "\n",
    "def getOneHotCols():\n",
    "    return ['tipodepropiedad', 'provincia']\n",
    "\n",
    "def getBinaryCols():\n",
    "    return ['ciudad', 'idzona']"
   ]
  },
  {
   "cell_type": "code",
   "execution_count": 9,
   "metadata": {},
   "outputs": [],
   "source": [
    "def preprocess(df, OHE, BE, encodingType):\n",
    "    features = df.copy()\n",
    "    drop_cols = getDropCols()\n",
    "    features = features.drop(drop_cols, axis=1)\n",
    "\n",
    "    if (encodingType == 'train'):\n",
    "        features = OHE.fit_transform(features)\n",
    "        features = BE.fit_transform(features)\n",
    "    else:\n",
    "        features = OHE.transform(features)\n",
    "        features = BE.transform(features)\n",
    "        \n",
    "    drop_cols = getOneHotCols()\n",
    "    drop_cols.extend(getBinaryCols())\n",
    "\n",
    "    display(drop_cols)\n",
    "                \n",
    "    #features = features.drop(drop_cols, axis=1)\n",
    "    \n",
    "    features = fill_m2(features)\n",
    "    \n",
    "    features_with_nans = features.columns[features.isna().any()].tolist()\n",
    "    \n",
    "    for feature in features_with_nans:\n",
    "        features[feature] = features[feature].fillna(0)\n",
    "        \n",
    "    #imp = Imputer()\n",
    "    #imp_cols = ['antiguedad', 'banos', 'habitaciones', 'garages']\n",
    "    #X_train[imp_cols] = imp.fit_transform(X_train[imp_cols])\n",
    "        \n",
    "    return features    "
   ]
  },
  {
   "cell_type": "code",
   "execution_count": 10,
   "metadata": {},
   "outputs": [],
   "source": [
    "import category_encoders as ce\n",
    "\n",
    "OHE = ce.OneHotEncoder(cols=getOneHotCols(), handle_unknown='ignore', use_cat_names=True)\n",
    "BE = ce.BinaryEncoder(cols=getBinaryCols(), handle_unknown='ignore')"
   ]
  },
  {
   "cell_type": "code",
   "execution_count": 11,
   "metadata": {},
   "outputs": [],
   "source": [
    "X = df_train.drop(\"precio\", axis=1)\n",
    "y = df_train['precio']\n",
    "X_train, X_test, y_train, y_test = train_test_split(X, y, test_size=0.25, random_state=42)"
   ]
  },
  {
   "cell_type": "code",
   "execution_count": 12,
   "metadata": {},
   "outputs": [],
   "source": [
    "X_train_submit = X_train.copy()"
   ]
  },
  {
   "cell_type": "code",
   "execution_count": 13,
   "metadata": {},
   "outputs": [
    {
     "data": {
      "text/plain": [
       "['tipodepropiedad', 'provincia', 'ciudad', 'idzona']"
      ]
     },
     "metadata": {},
     "output_type": "display_data"
    },
    {
     "data": {
      "text/plain": [
       "['tipodepropiedad', 'provincia', 'ciudad', 'idzona']"
      ]
     },
     "metadata": {},
     "output_type": "display_data"
    }
   ],
   "source": [
    "\n",
    "X_train = preprocess(X_train, OHE, BE, 'train')\n",
    "X_test = preprocess(X_test, OHE, BE, 'test')"
   ]
  },
  {
   "cell_type": "code",
   "execution_count": 14,
   "metadata": {},
   "outputs": [
    {
     "name": "stdout",
     "output_type": "stream",
     "text": [
      "Original shapes: X=(240000, 77) y=(240000,)\n",
      "Train shapes: X=(180000, 151) y=(180000,)\n",
      "Test  shapes: X=(60000, 151)  y=(60000,)\n"
     ]
    }
   ],
   "source": [
    "print(f\"Original shapes: X={X.shape} y={y.shape}\")\n",
    "print(f\"Train shapes: X={X_train.shape} y={y_train.shape}\")\n",
    "print(f\"Test  shapes: X={X_test.shape}  y={y_test.shape}\")"
   ]
  },
  {
   "cell_type": "markdown",
   "metadata": {},
   "source": [
    "## Feature Selection"
   ]
  },
  {
   "cell_type": "code",
   "execution_count": 15,
   "metadata": {},
   "outputs": [],
   "source": [
    "#from sklearn.feature_selection import SelectKBest"
   ]
  },
  {
   "cell_type": "code",
   "execution_count": 16,
   "metadata": {},
   "outputs": [],
   "source": [
    "#selection = SelectKBest(k=40)\n",
    "#x_features = selection.fit_transform(X_train, y_train)\n",
    "#columns = np.asarray(X_train.columns.values)\n",
    "#support = np.asarray(selection.get_support())\n",
    "#columns_with_support = columns[support]"
   ]
  },
  {
   "cell_type": "code",
   "execution_count": 17,
   "metadata": {},
   "outputs": [],
   "source": [
    "#columns_with_support"
   ]
  },
  {
   "cell_type": "markdown",
   "metadata": {},
   "source": [
    "## Hyperparameters tuning"
   ]
  },
  {
   "cell_type": "code",
   "execution_count": 15,
   "metadata": {},
   "outputs": [],
   "source": [
    "def evaluate(model, test_features, test_labels):\n",
    "    predictions = model.predict(test_features)\n",
    "    MAE = mean_absolute_error(test_labels, predictions)\n",
    "    print('Model Performance')\n",
    "    print('MAE: {:0.4f}'.format(MAE))\n",
    "    \n",
    "    return MAE"
   ]
  },
  {
   "cell_type": "code",
   "execution_count": 16,
   "metadata": {},
   "outputs": [],
   "source": [
    "from sklearn.ensemble import RandomForestRegressor"
   ]
  },
  {
   "cell_type": "code",
   "execution_count": 17,
   "metadata": {},
   "outputs": [],
   "source": [
    "from sklearn.model_selection import GridSearchCV\n",
    "# Create the parameter grid based on the results of random search \n",
    "param_grid = {\n",
    "    'bootstrap': [True],\n",
    "    'max_depth': [20, 30],\n",
    "    'n_estimators': [300]\n",
    "}\n",
    "# Create a based model\n",
    "rf = RandomForestRegressor()\n",
    "# Instantiate the grid search model\n",
    "grid_search = GridSearchCV(estimator = rf, param_grid = param_grid, cv = 5, n_jobs = -1, verbose = 10)"
   ]
  },
  {
   "cell_type": "code",
   "execution_count": 18,
   "metadata": {},
   "outputs": [
    {
     "name": "stdout",
     "output_type": "stream",
     "text": [
      "Fitting 5 folds for each of 2 candidates, totalling 10 fits\n"
     ]
    },
    {
     "name": "stderr",
     "output_type": "stream",
     "text": [
      "[Parallel(n_jobs=-1)]: Using backend LokyBackend with 4 concurrent workers.\n",
      "[Parallel(n_jobs=-1)]: Done   4 out of   8 | elapsed: 15.6min remaining: 15.6min\n",
      "[Parallel(n_jobs=-1)]: Done   5 out of   8 | elapsed: 15.6min remaining:  9.3min\n",
      "[Parallel(n_jobs=-1)]: Done   6 out of   8 | elapsed: 15.6min remaining:  5.2min\n",
      "[Parallel(n_jobs=-1)]: Done   8 out of   8 | elapsed: 15.6min remaining:    0.0s\n"
     ]
    },
    {
     "ename": "KeyboardInterrupt",
     "evalue": "",
     "output_type": "error",
     "traceback": [
      "\u001b[0;31m---------------------------------------------------------------------------\u001b[0m",
      "\u001b[0;31mKeyboardInterrupt\u001b[0m                         Traceback (most recent call last)",
      "\u001b[0;32m<ipython-input-18-8054fac704c4>\u001b[0m in \u001b[0;36m<module>\u001b[0;34m\u001b[0m\n\u001b[1;32m      1\u001b[0m \u001b[0;31m# Fit the grid search to the data\u001b[0m\u001b[0;34m\u001b[0m\u001b[0;34m\u001b[0m\u001b[0;34m\u001b[0m\u001b[0m\n\u001b[0;32m----> 2\u001b[0;31m \u001b[0mgrid_search\u001b[0m\u001b[0;34m.\u001b[0m\u001b[0mfit\u001b[0m\u001b[0;34m(\u001b[0m\u001b[0mX_train\u001b[0m\u001b[0;34m,\u001b[0m \u001b[0my_train\u001b[0m\u001b[0;34m)\u001b[0m\u001b[0;34m\u001b[0m\u001b[0;34m\u001b[0m\u001b[0m\n\u001b[0m\u001b[1;32m      3\u001b[0m \u001b[0mgrid_search\u001b[0m\u001b[0;34m.\u001b[0m\u001b[0mbest_params_\u001b[0m\u001b[0;34m\u001b[0m\u001b[0;34m\u001b[0m\u001b[0m\n\u001b[1;32m      4\u001b[0m \u001b[0mbest_grid\u001b[0m \u001b[0;34m=\u001b[0m \u001b[0mgrid_search\u001b[0m\u001b[0;34m.\u001b[0m\u001b[0mbest_estimator_\u001b[0m\u001b[0;34m\u001b[0m\u001b[0;34m\u001b[0m\u001b[0m\n\u001b[1;32m      5\u001b[0m \u001b[0mgrid_accuracy\u001b[0m \u001b[0;34m=\u001b[0m \u001b[0mevaluate\u001b[0m\u001b[0;34m(\u001b[0m\u001b[0mbest_grid\u001b[0m\u001b[0;34m,\u001b[0m \u001b[0mX_test\u001b[0m\u001b[0;34m,\u001b[0m \u001b[0my_test\u001b[0m\u001b[0;34m)\u001b[0m\u001b[0;34m\u001b[0m\u001b[0;34m\u001b[0m\u001b[0m\n",
      "\u001b[0;32m~/Documents/Facultad/datos/.venv/lib/python3.7/site-packages/sklearn/model_selection/_search.py\u001b[0m in \u001b[0;36mfit\u001b[0;34m(self, X, y, groups, **fit_params)\u001b[0m\n\u001b[1;32m    720\u001b[0m                 \u001b[0;32mreturn\u001b[0m \u001b[0mresults_container\u001b[0m\u001b[0;34m[\u001b[0m\u001b[0;36m0\u001b[0m\u001b[0;34m]\u001b[0m\u001b[0;34m\u001b[0m\u001b[0;34m\u001b[0m\u001b[0m\n\u001b[1;32m    721\u001b[0m \u001b[0;34m\u001b[0m\u001b[0m\n\u001b[0;32m--> 722\u001b[0;31m             \u001b[0mself\u001b[0m\u001b[0;34m.\u001b[0m\u001b[0m_run_search\u001b[0m\u001b[0;34m(\u001b[0m\u001b[0mevaluate_candidates\u001b[0m\u001b[0;34m)\u001b[0m\u001b[0;34m\u001b[0m\u001b[0;34m\u001b[0m\u001b[0m\n\u001b[0m\u001b[1;32m    723\u001b[0m \u001b[0;34m\u001b[0m\u001b[0m\n\u001b[1;32m    724\u001b[0m         \u001b[0mresults\u001b[0m \u001b[0;34m=\u001b[0m \u001b[0mresults_container\u001b[0m\u001b[0;34m[\u001b[0m\u001b[0;36m0\u001b[0m\u001b[0;34m]\u001b[0m\u001b[0;34m\u001b[0m\u001b[0;34m\u001b[0m\u001b[0m\n",
      "\u001b[0;32m~/Documents/Facultad/datos/.venv/lib/python3.7/site-packages/sklearn/model_selection/_search.py\u001b[0m in \u001b[0;36m_run_search\u001b[0;34m(self, evaluate_candidates)\u001b[0m\n\u001b[1;32m   1189\u001b[0m     \u001b[0;32mdef\u001b[0m \u001b[0m_run_search\u001b[0m\u001b[0;34m(\u001b[0m\u001b[0mself\u001b[0m\u001b[0;34m,\u001b[0m \u001b[0mevaluate_candidates\u001b[0m\u001b[0;34m)\u001b[0m\u001b[0;34m:\u001b[0m\u001b[0;34m\u001b[0m\u001b[0;34m\u001b[0m\u001b[0m\n\u001b[1;32m   1190\u001b[0m         \u001b[0;34m\"\"\"Search all candidates in param_grid\"\"\"\u001b[0m\u001b[0;34m\u001b[0m\u001b[0;34m\u001b[0m\u001b[0m\n\u001b[0;32m-> 1191\u001b[0;31m         \u001b[0mevaluate_candidates\u001b[0m\u001b[0;34m(\u001b[0m\u001b[0mParameterGrid\u001b[0m\u001b[0;34m(\u001b[0m\u001b[0mself\u001b[0m\u001b[0;34m.\u001b[0m\u001b[0mparam_grid\u001b[0m\u001b[0;34m)\u001b[0m\u001b[0;34m)\u001b[0m\u001b[0;34m\u001b[0m\u001b[0;34m\u001b[0m\u001b[0m\n\u001b[0m\u001b[1;32m   1192\u001b[0m \u001b[0;34m\u001b[0m\u001b[0m\n\u001b[1;32m   1193\u001b[0m \u001b[0;34m\u001b[0m\u001b[0m\n",
      "\u001b[0;32m~/Documents/Facultad/datos/.venv/lib/python3.7/site-packages/sklearn/model_selection/_search.py\u001b[0m in \u001b[0;36mevaluate_candidates\u001b[0;34m(candidate_params)\u001b[0m\n\u001b[1;32m    709\u001b[0m                                \u001b[0;32mfor\u001b[0m \u001b[0mparameters\u001b[0m\u001b[0;34m,\u001b[0m \u001b[0;34m(\u001b[0m\u001b[0mtrain\u001b[0m\u001b[0;34m,\u001b[0m \u001b[0mtest\u001b[0m\u001b[0;34m)\u001b[0m\u001b[0;34m\u001b[0m\u001b[0;34m\u001b[0m\u001b[0m\n\u001b[1;32m    710\u001b[0m                                in product(candidate_params,\n\u001b[0;32m--> 711\u001b[0;31m                                           cv.split(X, y, groups)))\n\u001b[0m\u001b[1;32m    712\u001b[0m \u001b[0;34m\u001b[0m\u001b[0m\n\u001b[1;32m    713\u001b[0m                 \u001b[0mall_candidate_params\u001b[0m\u001b[0;34m.\u001b[0m\u001b[0mextend\u001b[0m\u001b[0;34m(\u001b[0m\u001b[0mcandidate_params\u001b[0m\u001b[0;34m)\u001b[0m\u001b[0;34m\u001b[0m\u001b[0;34m\u001b[0m\u001b[0m\n",
      "\u001b[0;32m~/Documents/Facultad/datos/.venv/lib/python3.7/site-packages/sklearn/externals/joblib/parallel.py\u001b[0m in \u001b[0;36m__call__\u001b[0;34m(self, iterable)\u001b[0m\n\u001b[1;32m    928\u001b[0m \u001b[0;34m\u001b[0m\u001b[0m\n\u001b[1;32m    929\u001b[0m             \u001b[0;32mwith\u001b[0m \u001b[0mself\u001b[0m\u001b[0;34m.\u001b[0m\u001b[0m_backend\u001b[0m\u001b[0;34m.\u001b[0m\u001b[0mretrieval_context\u001b[0m\u001b[0;34m(\u001b[0m\u001b[0;34m)\u001b[0m\u001b[0;34m:\u001b[0m\u001b[0;34m\u001b[0m\u001b[0;34m\u001b[0m\u001b[0m\n\u001b[0;32m--> 930\u001b[0;31m                 \u001b[0mself\u001b[0m\u001b[0;34m.\u001b[0m\u001b[0mretrieve\u001b[0m\u001b[0;34m(\u001b[0m\u001b[0;34m)\u001b[0m\u001b[0;34m\u001b[0m\u001b[0;34m\u001b[0m\u001b[0m\n\u001b[0m\u001b[1;32m    931\u001b[0m             \u001b[0;31m# Make sure that we get a last message telling us we are done\u001b[0m\u001b[0;34m\u001b[0m\u001b[0;34m\u001b[0m\u001b[0;34m\u001b[0m\u001b[0m\n\u001b[1;32m    932\u001b[0m             \u001b[0melapsed_time\u001b[0m \u001b[0;34m=\u001b[0m \u001b[0mtime\u001b[0m\u001b[0;34m.\u001b[0m\u001b[0mtime\u001b[0m\u001b[0;34m(\u001b[0m\u001b[0;34m)\u001b[0m \u001b[0;34m-\u001b[0m \u001b[0mself\u001b[0m\u001b[0;34m.\u001b[0m\u001b[0m_start_time\u001b[0m\u001b[0;34m\u001b[0m\u001b[0;34m\u001b[0m\u001b[0m\n",
      "\u001b[0;32m~/Documents/Facultad/datos/.venv/lib/python3.7/site-packages/sklearn/externals/joblib/parallel.py\u001b[0m in \u001b[0;36mretrieve\u001b[0;34m(self)\u001b[0m\n\u001b[1;32m    831\u001b[0m             \u001b[0;32mtry\u001b[0m\u001b[0;34m:\u001b[0m\u001b[0;34m\u001b[0m\u001b[0;34m\u001b[0m\u001b[0m\n\u001b[1;32m    832\u001b[0m                 \u001b[0;32mif\u001b[0m \u001b[0mgetattr\u001b[0m\u001b[0;34m(\u001b[0m\u001b[0mself\u001b[0m\u001b[0;34m.\u001b[0m\u001b[0m_backend\u001b[0m\u001b[0;34m,\u001b[0m \u001b[0;34m'supports_timeout'\u001b[0m\u001b[0;34m,\u001b[0m \u001b[0;32mFalse\u001b[0m\u001b[0;34m)\u001b[0m\u001b[0;34m:\u001b[0m\u001b[0;34m\u001b[0m\u001b[0;34m\u001b[0m\u001b[0m\n\u001b[0;32m--> 833\u001b[0;31m                     \u001b[0mself\u001b[0m\u001b[0;34m.\u001b[0m\u001b[0m_output\u001b[0m\u001b[0;34m.\u001b[0m\u001b[0mextend\u001b[0m\u001b[0;34m(\u001b[0m\u001b[0mjob\u001b[0m\u001b[0;34m.\u001b[0m\u001b[0mget\u001b[0m\u001b[0;34m(\u001b[0m\u001b[0mtimeout\u001b[0m\u001b[0;34m=\u001b[0m\u001b[0mself\u001b[0m\u001b[0;34m.\u001b[0m\u001b[0mtimeout\u001b[0m\u001b[0;34m)\u001b[0m\u001b[0;34m)\u001b[0m\u001b[0;34m\u001b[0m\u001b[0;34m\u001b[0m\u001b[0m\n\u001b[0m\u001b[1;32m    834\u001b[0m                 \u001b[0;32melse\u001b[0m\u001b[0;34m:\u001b[0m\u001b[0;34m\u001b[0m\u001b[0;34m\u001b[0m\u001b[0m\n\u001b[1;32m    835\u001b[0m                     \u001b[0mself\u001b[0m\u001b[0;34m.\u001b[0m\u001b[0m_output\u001b[0m\u001b[0;34m.\u001b[0m\u001b[0mextend\u001b[0m\u001b[0;34m(\u001b[0m\u001b[0mjob\u001b[0m\u001b[0;34m.\u001b[0m\u001b[0mget\u001b[0m\u001b[0;34m(\u001b[0m\u001b[0;34m)\u001b[0m\u001b[0;34m)\u001b[0m\u001b[0;34m\u001b[0m\u001b[0;34m\u001b[0m\u001b[0m\n",
      "\u001b[0;32m~/Documents/Facultad/datos/.venv/lib/python3.7/site-packages/sklearn/externals/joblib/_parallel_backends.py\u001b[0m in \u001b[0;36mwrap_future_result\u001b[0;34m(future, timeout)\u001b[0m\n\u001b[1;32m    519\u001b[0m         AsyncResults.get from multiprocessing.\"\"\"\n\u001b[1;32m    520\u001b[0m         \u001b[0;32mtry\u001b[0m\u001b[0;34m:\u001b[0m\u001b[0;34m\u001b[0m\u001b[0;34m\u001b[0m\u001b[0m\n\u001b[0;32m--> 521\u001b[0;31m             \u001b[0;32mreturn\u001b[0m \u001b[0mfuture\u001b[0m\u001b[0;34m.\u001b[0m\u001b[0mresult\u001b[0m\u001b[0;34m(\u001b[0m\u001b[0mtimeout\u001b[0m\u001b[0;34m=\u001b[0m\u001b[0mtimeout\u001b[0m\u001b[0;34m)\u001b[0m\u001b[0;34m\u001b[0m\u001b[0;34m\u001b[0m\u001b[0m\n\u001b[0m\u001b[1;32m    522\u001b[0m         \u001b[0;32mexcept\u001b[0m \u001b[0mLokyTimeoutError\u001b[0m\u001b[0;34m:\u001b[0m\u001b[0;34m\u001b[0m\u001b[0;34m\u001b[0m\u001b[0m\n\u001b[1;32m    523\u001b[0m             \u001b[0;32mraise\u001b[0m \u001b[0mTimeoutError\u001b[0m\u001b[0;34m(\u001b[0m\u001b[0;34m)\u001b[0m\u001b[0;34m\u001b[0m\u001b[0;34m\u001b[0m\u001b[0m\n",
      "\u001b[0;32m/usr/local/Cellar/python/3.7.4_1/Frameworks/Python.framework/Versions/3.7/lib/python3.7/concurrent/futures/_base.py\u001b[0m in \u001b[0;36mresult\u001b[0;34m(self, timeout)\u001b[0m\n\u001b[1;32m    428\u001b[0m                 \u001b[0;32mreturn\u001b[0m \u001b[0mself\u001b[0m\u001b[0;34m.\u001b[0m\u001b[0m__get_result\u001b[0m\u001b[0;34m(\u001b[0m\u001b[0;34m)\u001b[0m\u001b[0;34m\u001b[0m\u001b[0;34m\u001b[0m\u001b[0m\n\u001b[1;32m    429\u001b[0m \u001b[0;34m\u001b[0m\u001b[0m\n\u001b[0;32m--> 430\u001b[0;31m             \u001b[0mself\u001b[0m\u001b[0;34m.\u001b[0m\u001b[0m_condition\u001b[0m\u001b[0;34m.\u001b[0m\u001b[0mwait\u001b[0m\u001b[0;34m(\u001b[0m\u001b[0mtimeout\u001b[0m\u001b[0;34m)\u001b[0m\u001b[0;34m\u001b[0m\u001b[0;34m\u001b[0m\u001b[0m\n\u001b[0m\u001b[1;32m    431\u001b[0m \u001b[0;34m\u001b[0m\u001b[0m\n\u001b[1;32m    432\u001b[0m             \u001b[0;32mif\u001b[0m \u001b[0mself\u001b[0m\u001b[0;34m.\u001b[0m\u001b[0m_state\u001b[0m \u001b[0;32min\u001b[0m \u001b[0;34m[\u001b[0m\u001b[0mCANCELLED\u001b[0m\u001b[0;34m,\u001b[0m \u001b[0mCANCELLED_AND_NOTIFIED\u001b[0m\u001b[0;34m]\u001b[0m\u001b[0;34m:\u001b[0m\u001b[0;34m\u001b[0m\u001b[0;34m\u001b[0m\u001b[0m\n",
      "\u001b[0;32m/usr/local/Cellar/python/3.7.4_1/Frameworks/Python.framework/Versions/3.7/lib/python3.7/threading.py\u001b[0m in \u001b[0;36mwait\u001b[0;34m(self, timeout)\u001b[0m\n\u001b[1;32m    294\u001b[0m         \u001b[0;32mtry\u001b[0m\u001b[0;34m:\u001b[0m    \u001b[0;31m# restore state no matter what (e.g., KeyboardInterrupt)\u001b[0m\u001b[0;34m\u001b[0m\u001b[0;34m\u001b[0m\u001b[0m\n\u001b[1;32m    295\u001b[0m             \u001b[0;32mif\u001b[0m \u001b[0mtimeout\u001b[0m \u001b[0;32mis\u001b[0m \u001b[0;32mNone\u001b[0m\u001b[0;34m:\u001b[0m\u001b[0;34m\u001b[0m\u001b[0;34m\u001b[0m\u001b[0m\n\u001b[0;32m--> 296\u001b[0;31m                 \u001b[0mwaiter\u001b[0m\u001b[0;34m.\u001b[0m\u001b[0macquire\u001b[0m\u001b[0;34m(\u001b[0m\u001b[0;34m)\u001b[0m\u001b[0;34m\u001b[0m\u001b[0;34m\u001b[0m\u001b[0m\n\u001b[0m\u001b[1;32m    297\u001b[0m                 \u001b[0mgotit\u001b[0m \u001b[0;34m=\u001b[0m \u001b[0;32mTrue\u001b[0m\u001b[0;34m\u001b[0m\u001b[0;34m\u001b[0m\u001b[0m\n\u001b[1;32m    298\u001b[0m             \u001b[0;32melse\u001b[0m\u001b[0;34m:\u001b[0m\u001b[0;34m\u001b[0m\u001b[0;34m\u001b[0m\u001b[0m\n",
      "\u001b[0;31mKeyboardInterrupt\u001b[0m: "
     ]
    }
   ],
   "source": [
    "# Fit the grid search to the data\n",
    "grid_search.fit(X_train, y_train)\n",
    "grid_search.best_params_\n",
    "best_grid = grid_search.best_estimator_\n",
    "grid_accuracy = evaluate(best_grid, X_test, y_test)\n"
   ]
  },
  {
   "cell_type": "code",
   "execution_count": 26,
   "metadata": {},
   "outputs": [
    {
     "data": {
      "text/plain": [
       "{'bootstrap': True,\n",
       " 'max_depth': 80,\n",
       " 'max_features': 3,\n",
       " 'min_samples_leaf': 3,\n",
       " 'min_samples_split': 8,\n",
       " 'n_estimators': 300}"
      ]
     },
     "execution_count": 26,
     "metadata": {},
     "output_type": "execute_result"
    }
   ],
   "source": [
    "grid_search.best_params_"
   ]
  },
  {
   "cell_type": "code",
   "execution_count": 27,
   "metadata": {},
   "outputs": [],
   "source": [
    "# Create the parameter grid based on the results of random search \n",
    "param_grid = {\n",
    "    'bootstrap': [True],\n",
    "    'max_depth': [50, 70],\n",
    "    'min_samples_leaf': [2, 3],\n",
    "    'min_samples_split': [6, 8],\n",
    "    'n_estimators': [300, 400]\n",
    "}\n",
    "# Create a based model\n",
    "rf = RandomForestRegressor()\n",
    "# Instantiate the grid search model\n",
    "grid_search = GridSearchCV(estimator = rf, param_grid = param_grid, cv = 3, n_jobs = -1, verbose = 2)"
   ]
  },
  {
   "cell_type": "code",
   "execution_count": null,
   "metadata": {},
   "outputs": [
    {
     "name": "stdout",
     "output_type": "stream",
     "text": [
      "Fitting 3 folds for each of 16 candidates, totalling 48 fits\n"
     ]
    },
    {
     "name": "stderr",
     "output_type": "stream",
     "text": [
      "[Parallel(n_jobs=-1)]: Using backend LokyBackend with 4 concurrent workers.\n"
     ]
    }
   ],
   "source": [
    "# Fit the grid search to the data\n",
    "grid_search.fit(X_train, y_train)\n",
    "grid_search.best_params_\n",
    "best_grid = grid_search.best_estimator_\n",
    "grid_accuracy = evaluate(best_grid, X_test, y_test)"
   ]
  },
  {
   "cell_type": "markdown",
   "metadata": {},
   "source": [
    "## Training"
   ]
  },
  {
   "cell_type": "code",
   "execution_count": 13,
   "metadata": {},
   "outputs": [],
   "source": [
    "\n",
    "\n",
    "model = RandomForestRegressor(random_state = 1,\n",
    "                                  n_estimators = 250,\n",
    "                                  max_depth = 15, \n",
    "                                )"
   ]
  },
  {
   "cell_type": "code",
   "execution_count": 15,
   "metadata": {},
   "outputs": [
    {
     "data": {
      "text/plain": [
       "RandomForestRegressor(bootstrap=True, criterion='mse', max_depth=15,\n",
       "           max_features='auto', max_leaf_nodes=None,\n",
       "           min_impurity_decrease=0.0, min_impurity_split=None,\n",
       "           min_samples_leaf=1, min_samples_split=2,\n",
       "           min_weight_fraction_leaf=0.0, n_estimators=250, n_jobs=None,\n",
       "           oob_score=False, random_state=1, verbose=0, warm_start=False)"
      ]
     },
     "execution_count": 15,
     "metadata": {},
     "output_type": "execute_result"
    }
   ],
   "source": [
    "model.fit(X_train, y_train)"
   ]
  },
  {
   "cell_type": "code",
   "execution_count": 24,
   "metadata": {},
   "outputs": [],
   "source": [
    "# Matriz de correlaciones como heatmap\n",
    "#plt.figure(figsize=(15, 15))\n",
    "#sns.heatmap(df_train.corr(), square=True, fmt='.2f');"
   ]
  },
  {
   "cell_type": "markdown",
   "metadata": {},
   "source": [
    "## Predicciones"
   ]
  },
  {
   "cell_type": "code",
   "execution_count": 94,
   "metadata": {},
   "outputs": [],
   "source": [
    "def predecir(model, train_features, train_labels, test_features, test_labels):\n",
    "    predict = model.predict(test_features)\n",
    "    print('Entrenamiento: {:0.4f}%'.format(model.score(train_features, train_labels)*100))\n",
    "    \n",
    "    if test_labels != None:\n",
    "        error = mean_absolute_error(test_labels, predict)\n",
    "        score = model.score(test_features,test_labels)\n",
    "        print('Testeo: {:0.4f}%.'.format(score*100))\n",
    "        print('Mean abs error: {:0.4f}.'.format(error))\n",
    "    \n",
    "    return predict"
   ]
  },
  {
   "cell_type": "code",
   "execution_count": 17,
   "metadata": {},
   "outputs": [
    {
     "name": "stdout",
     "output_type": "stream",
     "text": [
      "Entrenamiento: 88.0435%\n",
      "Testeo: 77.7480%.\n",
      "Mean abs error: 613768.5505.\n"
     ]
    }
   ],
   "source": [
    "predecir(model, X_train, y_train, X_test, y_test)"
   ]
  },
  {
   "cell_type": "code",
   "execution_count": null,
   "metadata": {},
   "outputs": [],
   "source": []
  },
  {
   "cell_type": "code",
   "execution_count": null,
   "metadata": {},
   "outputs": [],
   "source": []
  },
  {
   "cell_type": "markdown",
   "metadata": {},
   "source": [
    "## Submission"
   ]
  },
  {
   "cell_type": "code",
   "execution_count": 85,
   "metadata": {},
   "outputs": [],
   "source": [
    "df_test = pd.read_csv('../data/test.csv')"
   ]
  },
  {
   "cell_type": "code",
   "execution_count": 86,
   "metadata": {},
   "outputs": [],
   "source": [
    "df_test['fecha'] = pd.to_datetime(df_test['fecha'], errors='coerce')\n",
    "df_test['anio'] = df_test['fecha'].dt.year\n",
    "df_test[\"mes\"] = df_test['fecha'].dt.month\n",
    "df_test[\"dia\"] = df_test['fecha'].dt.day\n",
    "df_test['fecha'] = df_test['fecha'].astype(int) / 10**9\n",
    "\n",
    "df_test = df_test.drop(columns=[\"lat\",\"lng\"])\n",
    "\n",
    "df_test[\"descripcion\"] = df_test[\"descripcion\"].fillna(\"\")\n",
    "df_test[\"titulo\"] = df_test[\"titulo\"].fillna(\"\")"
   ]
  },
  {
   "cell_type": "code",
   "execution_count": 87,
   "metadata": {},
   "outputs": [],
   "source": [
    "def contiene(df, columna, palabra):\n",
    "    return df[columna].str.contains(palabra).astype(int)"
   ]
  },
  {
   "cell_type": "code",
   "execution_count": 88,
   "metadata": {},
   "outputs": [],
   "source": [
    "def contiene_alguna(df, columna, palabras):\n",
    "    result = df[columna].apply(lambda x: 0)\n",
    "    for palabra in palabras:\n",
    "        result = result | contiene(df, columna, palabra)\n",
    "        \n",
    "    return result    "
   ]
  },
  {
   "cell_type": "code",
   "execution_count": 89,
   "metadata": {},
   "outputs": [],
   "source": [
    "df = df_test.copy()"
   ]
  },
  {
   "cell_type": "code",
   "execution_count": 90,
   "metadata": {},
   "outputs": [],
   "source": [
    "# del wordcloud\n",
    "df[\"palabra_hermosa\"] = contiene_alguna(df, \"descripcion\", [\"hermosa\", \"bonita\", \"bonito\", \"linda\", \"cholula\", \"cholulo\", \"preciosa\", \"precioso\"]) | contiene_alguna(df, \"titulo\", [\"hermosa\", \"bonita\", \"bonito\", \"linda\", \"cholula\", \"cholulo\", \"precioso\", \"preciosa\"])\n",
    "df[\"palabra_excelente\"] = contiene_alguna(df, \"descripcion\", [\"excelente\", \"excelentes\"]) | contiene_alguna(df, \"titulo\", [\"excelente\", \"excelentes\"])\n",
    "df[\"palabra_mejor\"] = contiene_alguna(df, \"descripcion\", [\"mejor\", \"mejores\"]) | contiene_alguna(df, \"titulo\", [\"mejor\", \"mejores\"])\n",
    "df[\"palabra_grande\"] = contiene_alguna(df, \"descripcion\", [\"grande\", \"gran\", \"amplia\", \"amplias\", \"amplio\", \"amplios\"]) | contiene_alguna(df, \"titulo\", [\"grande\", \"gran\", \"amplia\", \"amplias\", \"amplio\", \"amplios\"])\n",
    "df[\"palabra_equipada\"] = contiene_alguna(df, \"descripcion\", [\"equipada\", \"equipado\", \"completa\", \"completo\"]) | contiene_alguna(df, \"descripcion\", [\"equipada\", \"equipado\", \"completa\", \"completo\"])\n",
    "df[\"palabra_vestidor\"] = contiene_alguna(df, \"descripcion\", [\"vestidor\", \"closet\"]) | contiene_alguna(df, \"titulo\", [\"vestidor\", \"closet\"])\n",
    "df[\"palabra_credito\"] = contiene_alguna(df, \"descripcion\", [\"credito\", \"crédito\", \"créditos\", \"creditos\", \"banco\", \"banca\", \"bancario\", \"bancarios\", \"hipoteca\"]) | contiene_alguna(df, \"titulo\", [\"credito\", \"crédito\", \"créditos\", \"creditos\", \"banco\", \"banca\", \"bancario\", \"bancarios\", \"hipoteca\"])\n",
    "df[\"palabra_privada\"] = contiene_alguna(df, \"descripcion\", [\"privada\", \"privado\"]) | contiene_alguna(df, \"titulo\", [\"privada\", \"privado\"])\n",
    "df[\"palabra_bodega\"] = contiene_alguna(df, \"descripcion\", [\"bodega\"]) | contiene_alguna(df, \"titulo\", [\"bodega\"])\n",
    "df[\"palabra_club\"] = contiene_alguna(df, \"descripcion\", [\"club\"]) | contiene_alguna(df, \"titulo\", [\"club\"])\n",
    "df[\"palabra_cerrada\"] = contiene_alguna(df, \"descripcion\", [\"cerrada\", \"cerrado\"]) | contiene_alguna(df, \"titulo\", [\"cerrada\", \"cerrado\"])\n",
    "df[\"palabra_jardin\"] = contiene_alguna(df, \"descripcion\", [\"jardin\", \"jardín\", \"garden\", \"patio\"]) | contiene_alguna(df, \"titulo\", [\"jardin\", \"jardín\", \"garden\", \"patio\"])\n",
    "df[\"palabra_oportunidad\"] = contiene_alguna(df, \"descripcion\", [\"oportunidad\"]) | contiene_alguna(df, \"titulo\", [\"oportunidad\"])\n",
    "df[\"palabra_tv\"] = contiene_alguna(df, \"descripcion\", [\"tv\", \"tele\", \"television\", \"televisión\", \"televisor\"]) | contiene_alguna(df, \"titulo\", [\"tv\", \"tele\", \"television\", \"televisión\", \"televisor\"])\n",
    "df[\"palabra_juegos\"] = contiene_alguna(df, \"descripcion\", [\"juego\"]) | contiene_alguna(df, \"titulo\", [\"juego\"])\n",
    "df[\"palabra_niño\"] = contiene_alguna(df, \"descripcion\", [\"niño\", \"niña\", \"infantil\"]) | contiene_alguna(df, \"titulo\", [\"niño\", \"niña\", \"infantil\"])\n",
    "df[\"palabra_transporte\"] = contiene_alguna(df, \"descripcion\", [\"transporte\"]) | contiene_alguna(df, \"titulo\", [\"transporte\"])\n",
    "df[\"palabra_estudio\"] = contiene_alguna(df, \"descripcion\", [\"estudio\"]) | contiene_alguna(df, \"titulo\", [\"estudio\"])\n",
    "df[\"palabra_terraza\"] = contiene_alguna(df, \"descripcion\", [\"terraza\"]) | contiene_alguna(df, \"titulo\", [\"terraza\"])\n",
    "df[\"palabra_balcon\"] = contiene_alguna(df, \"descripcion\", [\"balcón\", \"balcon\"]) | contiene_alguna(df, \"titulo\", [\"balcón\", \"balcon\"])\n",
    "df[\"palabra_lote\"] = contiene_alguna(df, \"descripcion\", [\"lote\", \"terreno\"]) | contiene_alguna(df, \"titulo\", [\"lote\", \"terreno\"])\n",
    "df[\"palabra_fraccionamiento\"] = contiene_alguna(df, \"descripcion\", [\"fraccionamiento\", \"fracc\"]) | contiene_alguna(df, \"titulo\", [\"fraccionamiento\", \"fracc\"])\n",
    "df[\"palabra_local\"] = contiene_alguna(df, \"descripcion\", [\"local\", \"tienda\", \"comercial\"]) | contiene_alguna(df, \"titulo\", [\"local\", \"tienda\", \"comercial\"])\n",
    "df[\"palabra_seguridad\"] = contiene_alguna(df, \"descripcion\", [\"vigilancia\", \"vigilador\", \"seguridad\", \"guardia\"]) | contiene_alguna(df, \"titulo\", [\"vigilancia\", \"vigilador\", \"seguridad\", \"guardia\"])\n",
    "df[\"palabra_garage\"] = contiene_alguna(df, \"descripcion\", [\"garage\", \"auto\", \"estacionamiento\"]) | contiene_alguna(df, \"titulo\", [\"garage\", \"auto\", \"estacionamiento\"])\n",
    "df[\"palabra_centro\"] = contiene_alguna(df, \"descripcion\", [\"centro\", \"central\", \"cercano\", \"cercania\", \"minuto\"]) | contiene_alguna(df, \"titulo\", [\"centro\", \"central\", \"cercano\", \"cercania\", \"minuto\"])\n",
    "df[\"palabra_techada\"] = contiene_alguna(df, \"descripcion\", [\"techada\", \"techado\", \"roof\"]) | contiene_alguna(df, \"titulo\", [\"techada\", \"techado\", \"roof\"])\n",
    "df[\"palabra_estancia\"] = contiene_alguna(df, \"descripcion\", [\"estancia\"]) | contiene_alguna(df, \"titulo\", [\"estancia\"])\n",
    "df[\"palabra_alberca\"] = contiene_alguna(df, \"descripcion\", [\"alberca\"]) | contiene_alguna(df, \"titulo\", [\"alberca\"])\n",
    "df[\"palabra_servicios\"] = contiene_alguna(df, \"descripcion\", [\"servicios\"]) | contiene_alguna(df, \"titulo\", [\"servicios\"])\n",
    "df[\"palabra_servicio\"] = contiene_alguna(df, \"descripcion\", [\"servicio\"]) | contiene_alguna(df, \"titulo\", [\"servicio\"])\n",
    "df[\"palabra_estilo\"] = contiene_alguna(df, \"descripcion\", [\"estilo\"]) | contiene_alguna(df, \"titulo\", [\"estilo\"])\n",
    "df[\"palabra_frente\"] = contiene_alguna(df, \"descripcion\", [\"frente\"]) | contiene_alguna(df, \"titulo\", [\"frente\"])\n",
    "df[\"palabra_vista\"] = contiene_alguna(df, \"descripcion\", [\"vista\"]) | contiene_alguna(df, \"titulo\", [\"vista\"])\n",
    "df[\"palabra_visitas\"] = contiene_alguna(df, \"descripcion\", [\"visita\"]) | contiene_alguna(df, \"titulo\", [\"visita\"])\n",
    "df[\"palabra_parque\"] = contiene_alguna(df, \"descripcion\", [\"parque\", \"plaza\", \"verde\"]) | contiene_alguna(df, \"titulo\", [\"parque\", \"plaza\", \"verde\"])\n",
    "df[\"palabra_areas\"] = contiene_alguna(df, \"descripcion\", [\"area\", \"área\"]) | contiene_alguna(df, \"titulo\", [\"area\", \"área\"])\n",
    "df[\"palabra_estrenar\"] = contiene_alguna(df, \"descripcion\", [\"estrenar\", \"estreno\", \"estrene\"]) | contiene_alguna(df, \"titulo\", [\"estrenar\", \"estreno\", \"estrene\"])\n",
    "df[\"palabra_infonavit\"] = contiene_alguna(df, \"descripcion\", [\"infonavit\"]) | contiene_alguna(df, \"titulo\", [\"infonavit\"])\n",
    "df[\"palabra_residencial\"] = contiene_alguna(df, \"descripcion\", [\"residencia\"]) | contiene_alguna(df, \"titulo\", [\"residencia\"])\n",
    "df[\"palabra_escuela\"] = contiene_alguna(df, \"descripcion\", [\"escuela\", \"colegio\", \"educacion\", \"educación\", \"uni\", \"universidad\", \"facultad\"]) | contiene_alguna(df, \"titulo\", [\"escuela\", \"colegio\", \"educacion\", \"educación\", \"uni\", \"universidad\", \"facultad\"])\n",
    "df[\"palabra_exclusivo\"] = contiene_alguna(df, \"descripcion\", [\"exclusivo\", \"exclusividad\"]) | contiene_alguna(df, \"titulo\", [\"exclusivo\", \"exclusividad\"])\n",
    "df[\"palabra_lujo\"] = contiene_alguna(df, \"descripcion\", [\"lujo\"]) | contiene_alguna(df, \"titulo\", [\"lujo\"])\n",
    "df[\"palabra_esquina\"] = contiene_alguna(df, \"descripcion\", [\"esquina\"]) | contiene_alguna(df, \"titulo\", [\"esquina\"])\n",
    "df[\"palabra_refaccion\"] = contiene_alguna(df, \"descripcion\", [\"refaccion\", \"refacción\", \"reacondicionado\", \"remodelada\", \"remodelado\"]) | contiene_alguna(df, \"titulo\", [\"refaccion\", \"refacción\", \"reacondicionado\", \"remodelada\", \"remodelado\"])\n",
    "df[\"palabra_country\"] = contiene_alguna(df, \"descripcion\", [\"country\"]) | contiene_alguna(df, \"titulo\", [\"country\"])\n",
    "df[\"palabra_barra\"] = contiene_alguna(df, \"descripcion\", [\"barra\"]) | contiene_alguna(df, \"titulo\", [\"barra\"])\n",
    "df[\"palabra_lavado\"] = contiene_alguna(df, \"descripcion\", [\"lavado\"]) | contiene_alguna(df, \"titulo\", [\"lavado\"])\n",
    "df[\"palabra_renta\"] = contiene_alguna(df, \"descripcion\", [\"renta\", \"alquiler\", \"alquilar\"]) | contiene_alguna(df, \"titulo\", [\"renta\", \"alquiler\", \"alquilar\"])\n",
    "df[\"palabra_super\"] = contiene_alguna(df, \"descripcion\", [\"super\"]) | contiene_alguna(df, \"titulo\", [\"super\"])\n",
    "df[\"palabra_lago\"] = contiene_alguna(df, \"descripcion\", [\"lago\"]) | contiene_alguna(df, \"titulo\", [\"lago\"])\n",
    "df[\"palabra_bosque\"] = contiene_alguna(df, \"descripcion\", [\"bosque\", \"arbol\", \"árbol\"]) | contiene_alguna(df, \"titulo\", [\"bosque\", \"arbol\", \"árbol\"])\n",
    "df[\"palabra_avenida\"] = contiene_alguna(df, \"descripcion\", [\"av\", \"avenida\"]) | contiene_alguna(df, \"titulo\", [\"av\", \"avenida\"])\n",
    "df[\"palabra_hospital\"] = contiene_alguna(df, \"descripcion\", [\"hospital\", \"medicina\", \"medico\", \"médico\", \"farmacia\"]) | contiene_alguna(df, \"titulo\", [\"hospital\", \"medicina\", \"medico\", \"médico\", \"farmacia\"])\n",
    "#df[\"palabra_pileta\"] = contiene_alguna(df, \"descripcion\", [\"pileta\", \"piscina\", \"jacuzzi\"]) | contiene_alguna(df, \"titulo\", [\"pileta\", \"piscina\", \"jacuzzi\"])\n",
    "#df[\"palabra_solarium\"] = contiene_alguna(df, \"descripcion\", [\"solarium\"]) | contiene_alguna(df, \"titulo\", [\"solarium\"])\n",
    "#df[\"palabra_gas\"] = contiene_alguna(df, \"descripcion\", [\"gas\", \"estufa\"]) | contiene_alguna(df, \"titulo\", [\"gas\", \"estufa\"])\n",
    "\n",
    "\n"
   ]
  },
  {
   "cell_type": "code",
   "execution_count": 91,
   "metadata": {},
   "outputs": [
    {
     "data": {
      "text/plain": [
       "['tipodepropiedad', 'provincia', 'ciudad', 'idzona']"
      ]
     },
     "metadata": {},
     "output_type": "display_data"
    },
    {
     "data": {
      "text/plain": [
       "['tipodepropiedad', 'provincia', 'ciudad', 'idzona']"
      ]
     },
     "metadata": {},
     "output_type": "display_data"
    }
   ],
   "source": [
    "X_train_submit = preprocess(X_train_submit, OHE, BE, 'train')\n",
    "df = preprocess(df, OHE, BE, 'test')"
   ]
  },
  {
   "cell_type": "code",
   "execution_count": 92,
   "metadata": {},
   "outputs": [
    {
     "name": "stdout",
     "output_type": "stream",
     "text": [
      "Train shapes: X=(180000, 151) y=(240000,)\n",
      "Test  shapes: X=(60000, 151)\n"
     ]
    }
   ],
   "source": [
    "print(f\"Train shapes: X={X_train_submit.shape} y={y.shape}\")\n",
    "print(f\"Test  shapes: X={df.shape}\")"
   ]
  },
  {
   "cell_type": "code",
   "execution_count": 95,
   "metadata": {},
   "outputs": [
    {
     "name": "stdout",
     "output_type": "stream",
     "text": [
      "Entrenamiento: 88.0435%\n"
     ]
    }
   ],
   "source": [
    "submit_prediction = predecir(model, X_train_submit, y_train, df, None)"
   ]
  },
  {
   "cell_type": "code",
   "execution_count": null,
   "metadata": {},
   "outputs": [],
   "source": []
  },
  {
   "cell_type": "code",
   "execution_count": 80,
   "metadata": {},
   "outputs": [
    {
     "data": {
      "text/plain": [
       "['tipodepropiedad_Garage']"
      ]
     },
     "metadata": {},
     "output_type": "display_data"
    }
   ],
   "source": [
    "#cols_diff = []\n",
    "#ft = X_train.columns.values\n",
    "#fs = df.columns.values\n",
    "#for feat in fs:\n",
    "#    if feat not in ft:\n",
    "#        cols_diff.append(feat)\n",
    "        \n",
    "#display(cols_diff)        "
   ]
  },
  {
   "cell_type": "code",
   "execution_count": 122,
   "metadata": {},
   "outputs": [],
   "source": [
    "#pd.concat([df_test[['id']], pd.Series(submit_prediction)], axis=1).rename(columns={0:\"target\"}).to_csv(\"../data/submission13.csv\", index=False)"
   ]
  },
  {
   "cell_type": "code",
   "execution_count": 112,
   "metadata": {},
   "outputs": [],
   "source": [
    "from submission_helper import submission_output\n",
    "\n",
    "output = submission_output(df_test, submit_prediction)\n",
    "\n",
    "output.to_csv('../data/submission13.csv', index=False)"
   ]
  },
  {
   "cell_type": "code",
   "execution_count": null,
   "metadata": {},
   "outputs": [],
   "source": []
  }
 ],
 "metadata": {
  "kernelspec": {
   "display_name": "Python 3",
   "language": "python",
   "name": "python3"
  },
  "language_info": {
   "codemirror_mode": {
    "name": "ipython",
    "version": 3
   },
   "file_extension": ".py",
   "mimetype": "text/x-python",
   "name": "python",
   "nbconvert_exporter": "python",
   "pygments_lexer": "ipython3",
   "version": "3.7.4"
  }
 },
 "nbformat": 4,
 "nbformat_minor": 2
}
