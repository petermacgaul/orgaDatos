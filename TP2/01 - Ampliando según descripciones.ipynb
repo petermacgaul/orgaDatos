{
 "cells": [
  {
   "cell_type": "code",
   "execution_count": 98,
   "metadata": {},
   "outputs": [],
   "source": [
    "import lightgbm as lgb\n",
    "from sklearn import metrics\n",
    "import category_encoders as ce\n",
    "from sklearn.preprocessing import Imputer\n",
    "from sklearn.model_selection import train_test_split\n",
    "from sklearn.dummy import DummyRegressor\n",
    "from sklearn.linear_model import LinearRegression\n",
    "from sklearn.tree import DecisionTreeRegressor\n",
    "import pandas as pd\n",
    "import numpy as np\n",
    "import xgboost as xgb\n",
    "\n",
    "\n",
    "\n",
    "df = pd.read_csv('../data/train.csv',dtype={'tipodepropiedad':'category','ciudad':'category','provincia':'category'})\n",
    "df['fecha'] = pd.to_datetime(df['fecha'])\n",
    "df['anio'] = df['fecha'].dt.year\n",
    "df[\"mes\"] = df['fecha'].dt.month\n",
    "df[\"dia\"] = df['fecha'].dt.day\n",
    "\n",
    "df = df.drop(columns=[\"lat\",\"lng\",\"id\",\"fecha\"])"
   ]
  },
  {
   "cell_type": "code",
   "execution_count": 99,
   "metadata": {},
   "outputs": [],
   "source": [
    "import re\n",
    "def contiene_frase(texto, frase):\n",
    "    if re.search(frase, texto,re.IGNORECASE):\n",
    "        return True\n",
    "    return False\n",
    "\n",
    "contiene_frase=np.vectorize(contiene_frase)"
   ]
  },
  {
   "cell_type": "code",
   "execution_count": 100,
   "metadata": {},
   "outputs": [],
   "source": [
    "def cantidad_de_public(data,colum,palabra):\n",
    "    return data[contiene_frase(data[colum],palabra)].dia.count()\n",
    "\n",
    "def serie_que_contiene_palabra(data,colum,palabra):\n",
    "        return contiene_frase(data[colum],palabra)"
   ]
  },
  {
   "cell_type": "code",
   "execution_count": 101,
   "metadata": {},
   "outputs": [],
   "source": [
    "busqueda = \"descripcion\"\n",
    "\n",
    "df1 = df.copy()\n",
    "df1 = df1.dropna(subset=[busqueda])"
   ]
  },
  {
   "cell_type": "code",
   "execution_count": 102,
   "metadata": {},
   "outputs": [
    {
     "data": {
      "text/plain": [
       "11163"
      ]
     },
     "execution_count": 102,
     "metadata": {},
     "output_type": "execute_result"
    }
   ],
   "source": [
    "df1[\"grande\"] = serie_que_contiene_palabra(df1,busqueda,\"grande\")\n",
    "cantidad_de_public(df1,busqueda,\"grande\")"
   ]
  },
  {
   "cell_type": "code",
   "execution_count": 103,
   "metadata": {},
   "outputs": [
    {
     "data": {
      "text/plain": [
       "4221"
      ]
     },
     "execution_count": 103,
     "metadata": {},
     "output_type": "execute_result"
    }
   ],
   "source": [
    "df1[\"universidad\"] = serie_que_contiene_palabra(df1,busqueda,\"universidad\")\n",
    "cantidad_de_public(df1,busqueda,\"universidad\")\n"
   ]
  },
  {
   "cell_type": "code",
   "execution_count": 104,
   "metadata": {},
   "outputs": [
    {
     "data": {
      "text/plain": [
       "4882"
      ]
     },
     "execution_count": 104,
     "metadata": {},
     "output_type": "execute_result"
    }
   ],
   "source": [
    "df1[\"aire acondicionado\"] = serie_que_contiene_palabra(df1,busqueda,\"aire acondicionado\")\n",
    "cantidad_de_public(df1,busqueda,\"aire acondicionado\")\n"
   ]
  },
  {
   "cell_type": "code",
   "execution_count": 105,
   "metadata": {},
   "outputs": [
    {
     "data": {
      "text/plain": [
       "20875"
      ]
     },
     "execution_count": 105,
     "metadata": {},
     "output_type": "execute_result"
    }
   ],
   "source": [
    "df1[\"ilum\"] = serie_que_contiene_palabra(df1,busqueda,\"ilum\")\n",
    "cantidad_de_public(df1,busqueda,\"ilum\")\n"
   ]
  },
  {
   "cell_type": "code",
   "execution_count": 108,
   "metadata": {},
   "outputs": [
    {
     "data": {
      "text/plain": [
       "55334"
      ]
     },
     "execution_count": 108,
     "metadata": {},
     "output_type": "execute_result"
    }
   ],
   "source": [
    "df1[\"seguridad\"] = serie_que_contiene_palabra(df1,busqueda,\"seguridad\")|serie_que_contiene_palabra(df1,busqueda,\"vigilancia\")\n",
    "cantidad_de_public(df1,busqueda,\"seguridad\") + cantidad_de_public(df1,busqueda,\"vigilancia\") \n"
   ]
  },
  {
   "cell_type": "code",
   "execution_count": 109,
   "metadata": {},
   "outputs": [
    {
     "data": {
      "text/plain": [
       "34423"
      ]
     },
     "execution_count": 109,
     "metadata": {},
     "output_type": "execute_result"
    }
   ],
   "source": [
    "df1[\"comercial\"] = serie_que_contiene_palabra(df1,busqueda,\"comercial\")\n",
    "cantidad_de_public(df1,busqueda,\"comercial\")\n"
   ]
  },
  {
   "cell_type": "code",
   "execution_count": 111,
   "metadata": {},
   "outputs": [],
   "source": [
    "busqueda = \"direccion\"\n",
    "df2 = df1.dropna(subset=[busqueda]).copy()\n"
   ]
  },
  {
   "cell_type": "code",
   "execution_count": 113,
   "metadata": {},
   "outputs": [
    {
     "data": {
      "text/plain": [
       "False    165528\n",
       "True      20184\n",
       "Name: avenida, dtype: int64"
      ]
     },
     "execution_count": 113,
     "metadata": {},
     "output_type": "execute_result"
    }
   ],
   "source": [
    "df2[\"avenida\"] = (serie_que_contiene_palabra(df2,busqueda,\"av\") | serie_que_contiene_palabra(df2,busqueda,\"avenida\"))"
   ]
  },
  {
   "cell_type": "code",
   "execution_count": 114,
   "metadata": {},
   "outputs": [],
   "source": [
    "df1.to_csv(\"../data/descripciones.csv\", index=False)"
   ]
  },
  {
   "cell_type": "code",
   "execution_count": 115,
   "metadata": {},
   "outputs": [],
   "source": [
    "df2.to_csv(\"../data/avenidas.csv\", index=False)"
   ]
  },
  {
   "cell_type": "code",
   "execution_count": null,
   "metadata": {},
   "outputs": [],
   "source": []
  }
 ],
 "metadata": {
  "kernelspec": {
   "display_name": "Python 3",
   "language": "python",
   "name": "python3"
  },
  "language_info": {
   "codemirror_mode": {
    "name": "ipython",
    "version": 3
   },
   "file_extension": ".py",
   "mimetype": "text/x-python",
   "name": "python",
   "nbconvert_exporter": "python",
   "pygments_lexer": "ipython3",
   "version": "3.7.5rc1"
  }
 },
 "nbformat": 4,
 "nbformat_minor": 2
}
