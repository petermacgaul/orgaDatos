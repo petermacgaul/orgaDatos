{
 "cells": [
  {
   "cell_type": "code",
   "execution_count": 1,
   "metadata": {},
   "outputs": [],
   "source": [
    "import category_encoders as ce\n",
    "\n",
    "from sklearn.impute import SimpleImputer\n",
    "from sklearn.preprocessing import LabelEncoder\n",
    "from sklearn.preprocessing import MinMaxScaler\n",
    "from sklearn.model_selection import train_test_split\n",
    "\n",
    "import matplotlib.pyplot as plt\n",
    "import pandas as pd\n",
    "import numpy as np"
   ]
  },
  {
   "cell_type": "markdown",
   "metadata": {},
   "source": [
    "## Defino funciones"
   ]
  },
  {
   "cell_type": "code",
   "execution_count": 2,
   "metadata": {},
   "outputs": [],
   "source": [
    "def imputar(df):\n",
    "    imp = SimpleImputer()\n",
    "    cols = df._get_numeric_data().columns\n",
    "    df_result = df.copy()\n",
    "    for x in cols:\n",
    "        df_result[x]=imp.fit_transform(df[[x]])\n",
    "    return df_result"
   ]
  },
  {
   "cell_type": "code",
   "execution_count": 3,
   "metadata": {},
   "outputs": [],
   "source": [
    "from sklearn.metrics import mean_absolute_error\n",
    "\n",
    "def predecir(model, train_features, train_labels, test_features, test_labels):\n",
    "    predict = model.predict(test_features)\n",
    "    error = mean_absolute_error(test_labels, predict)\n",
    "    score = model.score(test_features,test_labels)\n",
    "    \n",
    "    print('Entrenamiento: {:0.4f}%'.format(model.score(train_features, train_labels)*100))\n",
    "    print('Testeo: {:0.4f}%.'.format(score*100))\n",
    "    print('Mean abs error: {:0.4f}.'.format(error))\n",
    "\n",
    "    \n",
    "    return predict"
   ]
  },
  {
   "cell_type": "code",
   "execution_count": 4,
   "metadata": {},
   "outputs": [],
   "source": [
    "def transformar(df,colums,func):\n",
    "    for x in colums:\n",
    "        df[x]=df[x].transform(lambda y: func(y))\n",
    "        \n",
    "columnas_para_transformar = [\"metroscubiertos\",\"metrostotales\",\"metroscubiertostotales\"]\n",
    "\n",
    "#transformar(df1,columnas_para_transformar,np.sqrt)"
   ]
  },
  {
   "cell_type": "markdown",
   "metadata": {},
   "source": [
    "## Importo dataset"
   ]
  },
  {
   "cell_type": "code",
   "execution_count": 5,
   "metadata": {},
   "outputs": [],
   "source": [
    "df = pd.read_csv('../data/features.csv')\n",
    "df_test = pd.read_csv('../data/test_features.csv')\n",
    "\n",
    "df['fecha'] = pd.to_datetime(df['fecha'])\n",
    "df['anio'] = df['fecha'].dt.year\n",
    "df[\"mes\"] = df['fecha'].dt.month\n",
    "df[\"dia\"] = df['fecha'].dt.day"
   ]
  },
  {
   "cell_type": "code",
   "execution_count": 6,
   "metadata": {},
   "outputs": [],
   "source": [
    "df = df.drop(columns=[\"direccion\",\"descripcion\",\"titulo\"])\n",
    "df_test = df_test.drop(columns=[\"direccion\",\"descripcion\",\"titulo\"])\n",
    "\n",
    "df_ids = df_test[\"id\"]\n",
    "df = df.drop(columns=[\"id\"])\n",
    "df_test = df_test.drop(columns=[\"id\"])"
   ]
  },
  {
   "cell_type": "markdown",
   "metadata": {},
   "source": [
    "\n",
    "\n",
    "## Divido data set\n"
   ]
  },
  {
   "cell_type": "code",
   "execution_count": 7,
   "metadata": {},
   "outputs": [
    {
     "name": "stdout",
     "output_type": "stream",
     "text": [
      "Original shapes: X=(240000, 40) y=(240000,)\n",
      "Train shapes: X=(192000, 40) y=(192000,)\n",
      "Test  shapes: X=(48000, 40)  y=(48000,)\n"
     ]
    }
   ],
   "source": [
    "x = df[df.columns.drop(\"precio\")]\n",
    "y = df['precio']\n",
    "\n",
    "x_train, x_test, y_train, y_test = train_test_split(x, y, test_size=0.20)\n",
    "\n",
    "#x_train, x_test, y_train = x, df_test, y\n",
    "\n",
    "print(f\"Original shapes: X={x.shape} y={y.shape}\")\n",
    "print(f\"Train shapes: X={x_train.shape} y={y_train.shape}\")\n",
    "print(f\"Test  shapes: X={x_test.shape}  y={y_test.shape}\")"
   ]
  },
  {
   "cell_type": "markdown",
   "metadata": {},
   "source": [
    " ## Completo los datos faltantes"
   ]
  },
  {
   "cell_type": "code",
   "execution_count": 8,
   "metadata": {},
   "outputs": [],
   "source": [
    "oneHot = ['tipodepropiedad','provincia']\n",
    "binary = ['ciudad']"
   ]
  },
  {
   "cell_type": "code",
   "execution_count": 9,
   "metadata": {},
   "outputs": [],
   "source": [
    "#Completo los numericos\n",
    "x_train = imputar(x_train)\n",
    "x_test  = imputar(x_test )\n",
    "\n",
    "#Completo los categoricos\n",
    "imp = SimpleImputer(strategy=\"constant\",fill_value=\"-\")\n",
    "\n",
    "x_train[\"tipodepropiedad\"] = imp.fit_transform(x_train[[\"tipodepropiedad\"]])\n",
    "x_train[\"provincia\"] = imp.fit_transform(x_train[[\"provincia\"]])\n",
    "x_train[\"ciudad\"] = imp.fit_transform(x_train[[\"ciudad\"]])\n",
    "\n",
    "x_test[\"tipodepropiedad\"] = imp.fit_transform(x_test[[\"tipodepropiedad\"]])\n",
    "x_test[\"provincia\"] = imp.fit_transform(x_test[[\"provincia\"]])\n",
    "x_test[\"ciudad\"] = imp.fit_transform(x_test[[\"ciudad\"]])"
   ]
  },
  {
   "cell_type": "code",
   "execution_count": 10,
   "metadata": {},
   "outputs": [],
   "source": [
    "x_train[\"metroscubiertostotales\"]=x_train[\"metroscubiertos\"]+x_train[\"metrostotales\"]\n",
    "x_train[\"ambientes\"]=x_train[\"banos\"]+x_train[\"habitaciones\"]\n",
    "x_train[\"ambientesygarage\"]=x_train[\"banos\"]+x_train[\"habitaciones\"]+x_train[\"garages\"]\n",
    "\n",
    "x_test[\"metroscubiertostotales\"]=x_test[\"metroscubiertos\"]+x_test[\"metrostotales\"]\n",
    "x_test[\"ambientes\"]=x_test[\"banos\"]+x_test[\"habitaciones\"]\n",
    "x_test[\"ambientesygarage\"]=x_test[\"banos\"]+x_test[\"habitaciones\"]+x_test[\"garages\"]"
   ]
  },
  {
   "cell_type": "markdown",
   "metadata": {},
   "source": [
    " ## Genero los encodes"
   ]
  },
  {
   "cell_type": "code",
   "execution_count": 11,
   "metadata": {},
   "outputs": [
    {
     "data": {
      "text/plain": [
       "(192000, 107)"
      ]
     },
     "execution_count": 11,
     "metadata": {},
     "output_type": "execute_result"
    }
   ],
   "source": [
    "data_cols = x_train._get_numeric_data().columns\n",
    "baseline_data = x_train[data_cols]\n",
    "\n",
    "encoder = ce.OneHotEncoder()\n",
    "\n",
    "encoded = encoder.fit_transform(x_train[oneHot])\n",
    "data = baseline_data.join(encoded)\n",
    "\n",
    "encoder = ce.BinaryEncoder()\n",
    "encoded = encoder.fit_transform(x_train[binary])\n",
    "data_train = data.join(encoded)\n",
    "\n",
    "data_train.shape"
   ]
  },
  {
   "cell_type": "code",
   "execution_count": 12,
   "metadata": {},
   "outputs": [
    {
     "data": {
      "text/plain": [
       "(48000, 104)"
      ]
     },
     "execution_count": 12,
     "metadata": {},
     "output_type": "execute_result"
    }
   ],
   "source": [
    "data_cols = x_test._get_numeric_data().columns\n",
    "baseline_data = x_test[data_cols]\n",
    "\n",
    "encoder = ce.OneHotEncoder()\n",
    "\n",
    "encoded = encoder.fit_transform(x_test[oneHot])\n",
    "data = baseline_data.join(encoded)\n",
    "\n",
    "encoder = ce.BinaryEncoder()\n",
    "encoded = encoder.fit_transform(x_test[binary])\n",
    "data_test = data.join(encoded)\n",
    "\n",
    "data_test.shape"
   ]
  },
  {
   "cell_type": "markdown",
   "metadata": {},
   "source": [
    "\n",
    "## Modelo y entreno"
   ]
  },
  {
   "cell_type": "code",
   "execution_count": 43,
   "metadata": {},
   "outputs": [],
   "source": [
    "import lightgbm as lgb\n",
    "\n",
    "model = lgb.LGBMRegressor(n_estimators=1000,max_depth=5,num_leaves=10,n_jobs=-1)"
   ]
  },
  {
   "cell_type": "code",
   "execution_count": 44,
   "metadata": {},
   "outputs": [
    {
     "data": {
      "text/plain": [
       "LGBMRegressor(boosting_type='gbdt', class_weight=None, colsample_bytree=1.0,\n",
       "              importance_type='split', learning_rate=0.1, max_depth=6,\n",
       "              min_child_samples=20, min_child_weight=0.001, min_split_gain=0.0,\n",
       "              n_estimators=1000, n_jobs=-1, num_leaves=31, objective=None,\n",
       "              random_state=None, reg_alpha=1, reg_lambda=0.0, silent=True,\n",
       "              subsample=1.0, subsample_for_bin=200000, subsample_freq=0)"
      ]
     },
     "execution_count": 44,
     "metadata": {},
     "output_type": "execute_result"
    }
   ],
   "source": [
    "model.fit(data_train, y_train)"
   ]
  },
  {
   "cell_type": "markdown",
   "metadata": {},
   "source": [
    "## Predicciones"
   ]
  },
  {
   "cell_type": "code",
   "execution_count": 45,
   "metadata": {},
   "outputs": [
    {
     "name": "stdout",
     "output_type": "stream",
     "text": [
      "Train shapes: X=(192000, 107) y=(192000, 107)\n",
      "Test  shapes: X=(48000, 107)  y=(48000, 107)\n"
     ]
    }
   ],
   "source": [
    "for a in data_train.columns[~data_train.columns.isin(data_test.columns)]:\n",
    "    data_test[a] = 0\n",
    "\n",
    "data_test.shape[1] == x_train.shape[1]\n",
    "\n",
    "print(f\"Train shapes: X={data_train.shape} y={data_train.shape}\")\n",
    "print(f\"Test  shapes: X={data_test.shape}  y={data_test.shape}\")"
   ]
  },
  {
   "cell_type": "code",
   "execution_count": 46,
   "metadata": {},
   "outputs": [
    {
     "name": "stdout",
     "output_type": "stream",
     "text": [
      "Entrenamiento: 85.4424%\n",
      "Testeo: 28.9285%.\n",
      "Mean abs error: 1168436.8228.\n"
     ]
    },
    {
     "data": {
      "text/plain": [
       "array([1811064.3889421 , 1590230.59943648, 3258448.7344996 , ...,\n",
       "        568951.78186016,  739314.58679802, 1522118.11847401])"
      ]
     },
     "execution_count": 46,
     "metadata": {},
     "output_type": "execute_result"
    }
   ],
   "source": [
    "predecir(model,data_train,y_train,data_test,y_test)"
   ]
  },
  {
   "cell_type": "code",
   "execution_count": null,
   "metadata": {},
   "outputs": [],
   "source": [
    "plt.rcParams[\"figure.figsize\"] = [15, 15]\n",
    "\n",
    "importancia = model.feature_importances_\n",
    "ax = plt.barh(x_train.columns, importancia)"
   ]
  },
  {
   "cell_type": "code",
   "execution_count": null,
   "metadata": {},
   "outputs": [],
   "source": []
  },
  {
   "cell_type": "code",
   "execution_count": 29,
   "metadata": {},
   "outputs": [],
   "source": [
    "#Predigo los precios\n",
    "predict = model.predict(data_test)"
   ]
  },
  {
   "cell_type": "code",
   "execution_count": 30,
   "metadata": {},
   "outputs": [],
   "source": [
    "result = df_ids.astype(\"int32\").to_frame()\n",
    "result[\"target\"] = predict.astype(\"int32\")"
   ]
  },
  {
   "cell_type": "code",
   "execution_count": 31,
   "metadata": {},
   "outputs": [],
   "source": [
    "result = df_ids.astype(\"int32\").to_frame()\n",
    "result[\"target\"] = predict.astype(\"int32\")\n",
    "result.to_csv(\"../data/results/resultRF_Features.csv\", index=False)"
   ]
  },
  {
   "cell_type": "code",
   "execution_count": null,
   "metadata": {},
   "outputs": [],
   "source": []
  },
  {
   "cell_type": "code",
   "execution_count": null,
   "metadata": {},
   "outputs": [],
   "source": []
  },
  {
   "cell_type": "code",
   "execution_count": null,
   "metadata": {},
   "outputs": [],
   "source": []
  },
  {
   "cell_type": "code",
   "execution_count": null,
   "metadata": {},
   "outputs": [],
   "source": []
  },
  {
   "cell_type": "code",
   "execution_count": 47,
   "metadata": {},
   "outputs": [],
   "source": [
    "n_estimators = [int(x) for x in np.linspace(start = 100, stop = 2000, num = 10)]\n",
    "max_features = ['auto', 'log2']\n",
    "max_depth = [2,3,4, None]\n",
    "min_samples_split = [2, 3, 5, 10]\n",
    "min_samples_leaf = [1, 2, 4]\n",
    "bootstrap = [True, False]\n",
    "\n",
    "random_grid = {'n_estimators': n_estimators,\n",
    "               'max_features': max_features,\n",
    "               'max_depth': max_depth,\n",
    "               'min_samples_split': min_samples_split,\n",
    "               'min_samples_leaf': min_samples_leaf,\n",
    "               'bootstrap': bootstrap}"
   ]
  },
  {
   "cell_type": "code",
   "execution_count": null,
   "metadata": {},
   "outputs": [
    {
     "name": "stdout",
     "output_type": "stream",
     "text": [
      "Fitting 3 folds for each of 50 candidates, totalling 150 fits\n"
     ]
    },
    {
     "name": "stderr",
     "output_type": "stream",
     "text": [
      "/home/peter/.local/lib/python3.7/site-packages/sklearn/model_selection/_split.py:1978: FutureWarning: The default value of cv will change from 3 to 5 in version 0.22. Specify it explicitly to silence this warning.\n",
      "  warnings.warn(CV_WARNING, FutureWarning)\n",
      "[Parallel(n_jobs=-1)]: Using backend LokyBackend with 4 concurrent workers.\n",
      "[Parallel(n_jobs=-1)]: Done  33 tasks      | elapsed:  8.1min\n"
     ]
    }
   ],
   "source": [
    "from sklearn.model_selection import RandomizedSearchCV\n",
    "\n",
    "model = lgb.LGBMRegressor()\n",
    "random_search = RandomizedSearchCV(estimator = model, \n",
    "                               param_distributions = random_grid, \n",
    "                               n_iter = 50,\n",
    "                               n_jobs = -1,\n",
    "                               verbose=2)\n",
    "\n",
    "random_search.fit(data_train, y_train)"
   ]
  },
  {
   "cell_type": "code",
   "execution_count": null,
   "metadata": {},
   "outputs": [],
   "source": [
    "rf_random = random_search.best_estimator_"
   ]
  },
  {
   "cell_type": "code",
   "execution_count": null,
   "metadata": {},
   "outputs": [],
   "source": []
  }
 ],
 "metadata": {
  "kernelspec": {
   "display_name": "Python 3",
   "language": "python",
   "name": "python3"
  },
  "language_info": {
   "codemirror_mode": {
    "name": "ipython",
    "version": 3
   },
   "file_extension": ".py",
   "mimetype": "text/x-python",
   "name": "python",
   "nbconvert_exporter": "python",
   "pygments_lexer": "ipython3",
   "version": "3.7.5rc1"
  }
 },
 "nbformat": 4,
 "nbformat_minor": 2
}
