{
 "cells": [
  {
   "cell_type": "code",
   "execution_count": 1,
   "metadata": {},
   "outputs": [],
   "source": [
    "import pandas as pd\n",
    "import numpy as np\n",
    "import seaborn as sns\n",
    "import matplotlib\n",
    "import matplotlib.pyplot as plt\n",
    "\n",
    "%matplotlib inline\n",
    "pd.set_option('display.max_columns', 50)"
   ]
  },
  {
   "cell_type": "code",
   "execution_count": 2,
   "metadata": {},
   "outputs": [],
   "source": [
    "df = pd.read_csv('../data/train.csv',dtype={'tipodepropiedad':'category','ciudad':'category','provincia':'category'})\n",
    "df['fecha'] = pd.to_datetime(df['fecha'])\n",
    "df['anio'] = df['fecha'].dt.year\n",
    "df[\"mes\"] = df['fecha'].dt.month\n",
    "df[\"dia\"] = df['fecha'].dt.day\n",
    "\n",
    "df = df.drop(columns=[\"lat\",\"lng\"])"
   ]
  },
  {
   "cell_type": "code",
   "execution_count": 3,
   "metadata": {},
   "outputs": [
    {
     "data": {
      "text/plain": [
       "descripcion    1619\n",
       "titulo         5387\n",
       "dtype: int64"
      ]
     },
     "execution_count": 3,
     "metadata": {},
     "output_type": "execute_result"
    }
   ],
   "source": [
    "df[[\"descripcion\", \"titulo\"]].isna().sum()"
   ]
  },
  {
   "cell_type": "code",
   "execution_count": 4,
   "metadata": {},
   "outputs": [],
   "source": [
    "df[\"descripcion\"] = df[\"descripcion\"].fillna(\"\")\n",
    "df[\"titulo\"] = df[\"titulo\"].fillna(\"\")"
   ]
  },
  {
   "cell_type": "code",
   "execution_count": 5,
   "metadata": {},
   "outputs": [],
   "source": [
    "import re\n",
    "import string\n",
    "def clean_text_round1(text):\n",
    "    '''Make text lowercase, remove text in square brackets, remove punctuation and remove words containing numbers.'''\n",
    "    text = text.lower()\n",
    "    text = re.sub('<[^>]*>', '', text)\n",
    "    text = re.sub('\\[.*?¿\\]\\%;', '', text)\n",
    "    text = re.sub('&', '', text)\n",
    "    text = re.sub(';', '', text)\n",
    "    #text = re.sub('[%s]' % re.escape(string.punctuation), ' ', text)\n",
    "    text = re.sub('ñ', 'n', text)\n",
    "    #text = re.sub('\\w*\\d\\w*', ' ', text)\n",
    "    return text\n",
    " \n",
    "# Apply a second round of cleaning\n",
    "def clean_text_round2(text):\n",
    "    '''Get rid of some additional punctuation and non-sensical text that was missed the first time around.'''\n",
    "    text = re.sub('[‘’“”…«»]', ' ', text)\n",
    "    text = re.sub('\\n', ' ', text)\n",
    "    text = re.sub('\\x95', ' ', text)\n",
    "    text = re.sub('nbsp', '', text)\n",
    "    return text\n",
    "\n",
    "def sacar_acute(text):\n",
    "    text = re.sub('acute', '', text)\n",
    "    text = re.sub('tilde', '', text)\n",
    "    text = re.sub('á', 'a', text)\n",
    "    text = re.sub('é', 'e', text)\n",
    "    text = re.sub('í', 'i', text)\n",
    "    text = re.sub('ó', 'o', text)\n",
    "    text = re.sub('ú', 'u', text)\n",
    "    return text\n",
    "\n",
    "def limpiar_texto(text):\n",
    "    return sacar_acute(clean_text_round2(clean_text_round1(text)))"
   ]
  },
  {
   "cell_type": "code",
   "execution_count": 6,
   "metadata": {},
   "outputs": [],
   "source": [
    "df[\"descripcion\"] = df[\"descripcion\"].apply(limpiar_texto)"
   ]
  },
  {
   "cell_type": "code",
   "execution_count": 7,
   "metadata": {},
   "outputs": [
    {
     "data": {
      "text/plain": [
       "'estrene departamento 117 m2 (141 m2 totales), exterior, en 3er piso, con elevador, balcon (8 m2) con vista a la calle, estancia sala-comedor, cocina integral abierta con barra de granito, cuarto de lavado integrado, recamara principal con balcon, walk in closet y bano, 2 recamaras junior con closet (una con balcon interior) , bano completo, 2 cajones de estacionamiento (24 m2) independientes y techados. condominio de 14 deptos, elevador, caseta de vigilancia y roof garden comun con asador, tarja y medio bano. ver video en youtube buscando: estrene departamento 117 m2 en col. del valle. http://youtu.be/miugyaihx9u  y .  aceptamos creditos bancarios e infonavit.'"
      ]
     },
     "execution_count": 7,
     "metadata": {},
     "output_type": "execute_result"
    }
   ],
   "source": [
    "df[\"descripcion\"].loc[218827]"
   ]
  },
  {
   "cell_type": "markdown",
   "metadata": {},
   "source": [
    "# Preprocess"
   ]
  },
  {
   "cell_type": "code",
   "execution_count": 8,
   "metadata": {},
   "outputs": [],
   "source": [
    "import sys\n",
    "from nltk import word_tokenize\n",
    "from nltk import download\n",
    "from nltk.corpus import stopwords"
   ]
  },
  {
   "cell_type": "code",
   "execution_count": 9,
   "metadata": {
    "collapsed": false
   },
   "outputs": [
    {
     "name": "stderr",
     "output_type": "stream",
     "text": [
      "[nltk_data] Downloading package punkt to /Users/tmacia/nltk_data...\n",
      "[nltk_data]   Package punkt is already up-to-date!\n",
      "[nltk_data] Downloading package stopwords to\n",
      "[nltk_data]     /Users/tmacia/nltk_data...\n",
      "[nltk_data]   Package stopwords is already up-to-date!\n"
     ]
    }
   ],
   "source": [
    "download('punkt') #tokenizer, run once\n",
    "download('stopwords') #stopwords dictionary, run once\n",
    "stop_words = stopwords.words('spanish')"
   ]
  },
  {
   "cell_type": "code",
   "execution_count": 13,
   "metadata": {},
   "outputs": [
    {
     "data": {
      "text/plain": [
       "['de', 'la', 'que', 'el', 'en', 'y', 'a', 'los', 'del', 'se']"
      ]
     },
     "metadata": {},
     "output_type": "display_data"
    },
    {
     "name": "stdout",
     "output_type": "stream",
     "text": [
      "Hay 313 stop words\n"
     ]
    }
   ],
   "source": [
    "display(stop_words[:10])\n",
    "print(f'Hay {len(stop_words)} stop words')"
   ]
  },
  {
   "cell_type": "code",
   "execution_count": 14,
   "metadata": {},
   "outputs": [],
   "source": [
    "def preprocess(text):\n",
    "    text = text.lower()\n",
    "    doc = word_tokenize(text)\n",
    "    doc = [word for word in doc if word not in stop_words]\n",
    "    doc = [word for word in doc if word.isalpha()] #restricts string to alphabetic characters only\n",
    "    return doc"
   ]
  },
  {
   "cell_type": "code",
   "execution_count": 15,
   "metadata": {
    "collapsed": true
   },
   "outputs": [],
   "source": [
    "texts = df[\"descripcion\"]\n",
    "\n",
    "corpus = [preprocess(text) for text in texts]"
   ]
  },
  {
   "cell_type": "markdown",
   "metadata": {},
   "source": [
    "# Word2Vec"
   ]
  },
  {
   "cell_type": "code",
   "execution_count": 17,
   "metadata": {},
   "outputs": [],
   "source": [
    "from gensim.models import Word2Vec"
   ]
  },
  {
   "cell_type": "code",
   "execution_count": 18,
   "metadata": {},
   "outputs": [
    {
     "name": "stdout",
     "output_type": "stream",
     "text": [
      "--- 82.08875918388367 seconds ---\n"
     ]
    }
   ],
   "source": [
    "import time\n",
    "\n",
    "start_time = time.time()\n",
    "model = Word2Vec(\n",
    "        corpus,\n",
    "        size=150,\n",
    "        window=10,\n",
    "        min_count=2,\n",
    "        workers=10,\n",
    "        iter=10)\n",
    "\n",
    "\n",
    "print(\"--- %s seconds ---\" % (time.time() - start_time))"
   ]
  },
  {
   "cell_type": "code",
   "execution_count": 19,
   "metadata": {},
   "outputs": [
    {
     "name": "stdout",
     "output_type": "stream",
     "text": [
      "--- 80.94431018829346 seconds ---\n"
     ]
    }
   ],
   "source": [
    "start_time = time.time()\n",
    "\n",
    "model.train(corpus, total_examples=len(corpus), epochs=10)\n",
    "\n",
    "print(\"--- %s seconds ---\" % (time.time() - start_time))"
   ]
  },
  {
   "cell_type": "code",
   "execution_count": 20,
   "metadata": {},
   "outputs": [
    {
     "data": {
      "text/plain": [
       "[('garaje', 0.9489434361457825),\n",
       " ('cochera', 0.7315773963928223),\n",
       " ('estacionamiento', 0.7037502527236938),\n",
       " ('porch', 0.6791614294052124),\n",
       " ('garge', 0.595940351486206),\n",
       " ('grage', 0.5898770689964294),\n",
       " ('cohera', 0.5874559283256531),\n",
       " ('chochera', 0.5522443056106567),\n",
       " ('cocgera', 0.5011465549468994),\n",
       " ('estacionamientopara', 0.49807748198509216)]"
      ]
     },
     "execution_count": 20,
     "metadata": {},
     "output_type": "execute_result"
    }
   ],
   "source": [
    "model.wv.most_similar(positive=\"garage\")"
   ]
  },
  {
   "cell_type": "code",
   "execution_count": 21,
   "metadata": {},
   "outputs": [
    {
     "data": {
      "text/plain": [
       "[('departamento', 0.7799702286720276),\n",
       " ('depa', 0.7091067433357239),\n",
       " ('dpto', 0.6181997060775757),\n",
       " ('ph', 0.612342357635498),\n",
       " ('deptos', 0.600521981716156),\n",
       " ('edif', 0.5557106137275696),\n",
       " ('dep', 0.5469179153442383),\n",
       " ('habitables', 0.5370544195175171),\n",
       " ('penthouse', 0.5134924650192261),\n",
       " ('quinto', 0.4916203022003174)]"
      ]
     },
     "execution_count": 21,
     "metadata": {},
     "output_type": "execute_result"
    }
   ],
   "source": [
    "model.wv.most_similar(positive=\"depto\")"
   ]
  },
  {
   "cell_type": "code",
   "execution_count": 22,
   "metadata": {},
   "outputs": [
    {
     "data": {
      "text/plain": [
       "[('raqueta', 0.6460662484169006),\n",
       " ('delfos', 0.6314917802810669),\n",
       " ('sonoma', 0.6269243955612183),\n",
       " ('mundet', 0.6119074821472168),\n",
       " ('jockey', 0.6099569797515869),\n",
       " ('libanes', 0.6079738140106201),\n",
       " ('golf', 0.6058748364448547),\n",
       " ('hipico', 0.6046826243400574),\n",
       " ('chivas', 0.5915467143058777),\n",
       " ('britania', 0.5851802825927734)]"
      ]
     },
     "execution_count": 22,
     "metadata": {},
     "output_type": "execute_result"
    }
   ],
   "source": [
    "model.wv.most_similar(positive=\"country\")"
   ]
  },
  {
   "cell_type": "code",
   "execution_count": 24,
   "metadata": {},
   "outputs": [
    {
     "data": {
      "text/plain": [
       "[('cerrado', 0.6715835332870483),\n",
       " ('serrado', 0.5468931198120117),\n",
       " ('viviendistico', 0.5302548408508301),\n",
       " ('exclusivo', 0.5170251131057739),\n",
       " ('vogilancia', 0.5076881051063538),\n",
       " ('errado', 0.47704222798347473),\n",
       " ('veh', 0.4702994227409363),\n",
       " ('tezahuapan', 0.4683929681777954),\n",
       " ('morera', 0.464046448469162),\n",
       " ('llamare', 0.45714154839515686)]"
      ]
     },
     "execution_count": 24,
     "metadata": {},
     "output_type": "execute_result"
    }
   ],
   "source": [
    "model.wv.most_similar(positive=\"privado\")"
   ]
  },
  {
   "cell_type": "code",
   "execution_count": 25,
   "metadata": {},
   "outputs": [
    {
     "data": {
      "text/plain": [
       "[('historica', 0.5810374617576599),\n",
       " ('callejon', 0.5516899228096008),\n",
       " ('poblado', 0.5505751967430115),\n",
       " ('pintoresco', 0.5281222462654114),\n",
       " ('ahuizotla', 0.5202915072441101),\n",
       " ('congregacion', 0.5175260901451111),\n",
       " ('antigua', 0.5161295533180237),\n",
       " ('localidad', 0.5095129013061523),\n",
       " ('famoso', 0.5086329579353333),\n",
       " ('catedral', 0.5079529881477356)]"
      ]
     },
     "execution_count": 25,
     "metadata": {},
     "output_type": "execute_result"
    }
   ],
   "source": [
    "model.wv.most_similar(positive=\"barrio\")"
   ]
  },
  {
   "cell_type": "code",
   "execution_count": 40,
   "metadata": {},
   "outputs": [],
   "source": [
    "def document_vector(word2vec_model, doc):\n",
    "    # remove out-of-vocabulary words\n",
    "    doc = [word for word in doc if word in word2vec_model.vocab]\n",
    "    \n",
    "    if (len(doc) != 0):\n",
    "        return np.mean(word2vec_model[doc], axis=0)\n",
    "    \n",
    "    return np.zeros(word2vec_model.vector_size, dtype=np.float32)"
   ]
  },
  {
   "cell_type": "code",
   "execution_count": 41,
   "metadata": {},
   "outputs": [],
   "source": [
    "def fit(corpus, word2vec_model):\n",
    "    fitted_corpus = [document_vector(word2vec_model, doc) for doc in corpus]\n",
    "    \n",
    "    return fitted_corpus"
   ]
  },
  {
   "cell_type": "code",
   "execution_count": null,
   "metadata": {},
   "outputs": [],
   "source": []
  },
  {
   "cell_type": "code",
   "execution_count": 42,
   "metadata": {},
   "outputs": [],
   "source": [
    "fitted_corpus = fit(corpus, model.wv)"
   ]
  },
  {
   "cell_type": "code",
   "execution_count": 51,
   "metadata": {},
   "outputs": [],
   "source": [
    "pepe = pd.DataFrame(np.array(fitted_corpus))\n",
    "pepe.rename(columns={x:str(f\"descripcion-feature-{y}\") for x,y in zip(pepe.columns,range(0,len(pepe.columns)))}, inplace=True)"
   ]
  },
  {
   "cell_type": "code",
   "execution_count": 55,
   "metadata": {},
   "outputs": [],
   "source": [
    "merged = df.join(pepe)"
   ]
  },
  {
   "cell_type": "code",
   "execution_count": null,
   "metadata": {},
   "outputs": [],
   "source": []
  },
  {
   "cell_type": "code",
   "execution_count": 61,
   "metadata": {},
   "outputs": [],
   "source": [
    "merged.to_csv('../data/words.csv', index=False)"
   ]
  },
  {
   "cell_type": "code",
   "execution_count": null,
   "metadata": {},
   "outputs": [],
   "source": []
  },
  {
   "cell_type": "code",
   "execution_count": null,
   "metadata": {},
   "outputs": [],
   "source": []
  },
  {
   "cell_type": "code",
   "execution_count": 65,
   "metadata": {},
   "outputs": [],
   "source": [
    "pepe.to_csv('../data/word-features.csv', index=False)"
   ]
  },
  {
   "cell_type": "code",
   "execution_count": null,
   "metadata": {},
   "outputs": [],
   "source": []
  },
  {
   "cell_type": "code",
   "execution_count": null,
   "metadata": {},
   "outputs": [],
   "source": []
  },
  {
   "cell_type": "code",
   "execution_count": null,
   "metadata": {},
   "outputs": [],
   "source": []
  },
  {
   "cell_type": "markdown",
   "metadata": {},
   "source": [
    "# Reducción de dimensiones con TSNE"
   ]
  },
  {
   "cell_type": "code",
   "execution_count": 66,
   "metadata": {},
   "outputs": [],
   "source": [
    "from sklearn.decomposition import PCA\n",
    "\n",
    "pca = PCA(n_components=25, whiten = False, random_state = 42)\n",
    "pepe_pca = pca.fit_transform(pepe)"
   ]
  },
  {
   "cell_type": "code",
   "execution_count": 68,
   "metadata": {},
   "outputs": [
    {
     "data": {
      "text/plain": [
       "(240000, 25)"
      ]
     },
     "execution_count": 68,
     "metadata": {},
     "output_type": "execute_result"
    }
   ],
   "source": [
    "pepe_pca.shape"
   ]
  },
  {
   "cell_type": "code",
   "execution_count": 71,
   "metadata": {},
   "outputs": [
    {
     "data": {
      "text/html": [
       "<div>\n",
       "<style scoped>\n",
       "    .dataframe tbody tr th:only-of-type {\n",
       "        vertical-align: middle;\n",
       "    }\n",
       "\n",
       "    .dataframe tbody tr th {\n",
       "        vertical-align: top;\n",
       "    }\n",
       "\n",
       "    .dataframe thead th {\n",
       "        text-align: right;\n",
       "    }\n",
       "</style>\n",
       "<table border=\"1\" class=\"dataframe\">\n",
       "  <thead>\n",
       "    <tr style=\"text-align: right;\">\n",
       "      <th></th>\n",
       "      <th>descripcion-feature-0</th>\n",
       "      <th>descripcion-feature-1</th>\n",
       "      <th>descripcion-feature-2</th>\n",
       "      <th>descripcion-feature-3</th>\n",
       "      <th>descripcion-feature-4</th>\n",
       "      <th>descripcion-feature-5</th>\n",
       "      <th>descripcion-feature-6</th>\n",
       "      <th>descripcion-feature-7</th>\n",
       "      <th>descripcion-feature-8</th>\n",
       "      <th>descripcion-feature-9</th>\n",
       "      <th>descripcion-feature-10</th>\n",
       "      <th>descripcion-feature-11</th>\n",
       "      <th>descripcion-feature-12</th>\n",
       "      <th>descripcion-feature-13</th>\n",
       "      <th>descripcion-feature-14</th>\n",
       "      <th>descripcion-feature-15</th>\n",
       "      <th>descripcion-feature-16</th>\n",
       "      <th>descripcion-feature-17</th>\n",
       "      <th>descripcion-feature-18</th>\n",
       "      <th>descripcion-feature-19</th>\n",
       "      <th>descripcion-feature-20</th>\n",
       "      <th>descripcion-feature-21</th>\n",
       "      <th>descripcion-feature-22</th>\n",
       "      <th>descripcion-feature-23</th>\n",
       "      <th>descripcion-feature-24</th>\n",
       "    </tr>\n",
       "  </thead>\n",
       "  <tbody>\n",
       "    <tr>\n",
       "      <th>0</th>\n",
       "      <td>-11.692229</td>\n",
       "      <td>2.503089</td>\n",
       "      <td>0.519673</td>\n",
       "      <td>1.323910</td>\n",
       "      <td>-1.039441</td>\n",
       "      <td>-1.040019</td>\n",
       "      <td>-2.780203</td>\n",
       "      <td>-0.363929</td>\n",
       "      <td>-1.528654</td>\n",
       "      <td>1.422107</td>\n",
       "      <td>1.756427</td>\n",
       "      <td>-0.467452</td>\n",
       "      <td>-0.282842</td>\n",
       "      <td>-0.118984</td>\n",
       "      <td>0.237997</td>\n",
       "      <td>1.189590</td>\n",
       "      <td>-0.400355</td>\n",
       "      <td>0.528403</td>\n",
       "      <td>-0.267933</td>\n",
       "      <td>0.063858</td>\n",
       "      <td>0.199827</td>\n",
       "      <td>0.605335</td>\n",
       "      <td>-0.159274</td>\n",
       "      <td>-0.182673</td>\n",
       "      <td>0.098831</td>\n",
       "    </tr>\n",
       "    <tr>\n",
       "      <th>1</th>\n",
       "      <td>-3.788801</td>\n",
       "      <td>0.484829</td>\n",
       "      <td>1.150321</td>\n",
       "      <td>0.877703</td>\n",
       "      <td>-1.844381</td>\n",
       "      <td>3.245395</td>\n",
       "      <td>0.817782</td>\n",
       "      <td>0.693933</td>\n",
       "      <td>0.380544</td>\n",
       "      <td>-1.052826</td>\n",
       "      <td>-0.288084</td>\n",
       "      <td>-0.633723</td>\n",
       "      <td>-1.391791</td>\n",
       "      <td>-1.388864</td>\n",
       "      <td>-0.082455</td>\n",
       "      <td>-0.280055</td>\n",
       "      <td>-1.206187</td>\n",
       "      <td>-0.591297</td>\n",
       "      <td>1.061093</td>\n",
       "      <td>0.069538</td>\n",
       "      <td>-0.709585</td>\n",
       "      <td>-0.157409</td>\n",
       "      <td>-0.199224</td>\n",
       "      <td>-0.197963</td>\n",
       "      <td>0.198450</td>\n",
       "    </tr>\n",
       "    <tr>\n",
       "      <th>2</th>\n",
       "      <td>4.662774</td>\n",
       "      <td>-1.252783</td>\n",
       "      <td>1.053544</td>\n",
       "      <td>-1.691091</td>\n",
       "      <td>-0.615319</td>\n",
       "      <td>-0.172887</td>\n",
       "      <td>0.345634</td>\n",
       "      <td>-1.291938</td>\n",
       "      <td>-0.488919</td>\n",
       "      <td>1.005102</td>\n",
       "      <td>-0.811115</td>\n",
       "      <td>0.696495</td>\n",
       "      <td>-0.339239</td>\n",
       "      <td>0.473141</td>\n",
       "      <td>-0.097444</td>\n",
       "      <td>-0.483784</td>\n",
       "      <td>-0.206538</td>\n",
       "      <td>0.331479</td>\n",
       "      <td>0.599825</td>\n",
       "      <td>-0.153530</td>\n",
       "      <td>-0.170633</td>\n",
       "      <td>0.299281</td>\n",
       "      <td>0.460262</td>\n",
       "      <td>0.225551</td>\n",
       "      <td>-0.143891</td>\n",
       "    </tr>\n",
       "    <tr>\n",
       "      <th>3</th>\n",
       "      <td>7.633575</td>\n",
       "      <td>1.505060</td>\n",
       "      <td>0.168435</td>\n",
       "      <td>-1.354925</td>\n",
       "      <td>-0.708616</td>\n",
       "      <td>-1.282041</td>\n",
       "      <td>2.290100</td>\n",
       "      <td>-1.667372</td>\n",
       "      <td>-0.711799</td>\n",
       "      <td>1.035094</td>\n",
       "      <td>0.934204</td>\n",
       "      <td>2.817818</td>\n",
       "      <td>-0.018554</td>\n",
       "      <td>-1.038684</td>\n",
       "      <td>0.691927</td>\n",
       "      <td>-0.995883</td>\n",
       "      <td>-0.294871</td>\n",
       "      <td>-0.309800</td>\n",
       "      <td>-0.370264</td>\n",
       "      <td>-0.600472</td>\n",
       "      <td>-0.006817</td>\n",
       "      <td>-0.389981</td>\n",
       "      <td>0.200636</td>\n",
       "      <td>0.044455</td>\n",
       "      <td>-0.044037</td>\n",
       "    </tr>\n",
       "    <tr>\n",
       "      <th>4</th>\n",
       "      <td>5.814485</td>\n",
       "      <td>-0.401020</td>\n",
       "      <td>0.492635</td>\n",
       "      <td>3.736059</td>\n",
       "      <td>-0.560138</td>\n",
       "      <td>3.782986</td>\n",
       "      <td>-0.949182</td>\n",
       "      <td>-1.887627</td>\n",
       "      <td>1.627066</td>\n",
       "      <td>0.777200</td>\n",
       "      <td>0.760332</td>\n",
       "      <td>0.418681</td>\n",
       "      <td>2.172269</td>\n",
       "      <td>2.563909</td>\n",
       "      <td>-0.040549</td>\n",
       "      <td>1.485764</td>\n",
       "      <td>-0.675824</td>\n",
       "      <td>1.515152</td>\n",
       "      <td>-0.493995</td>\n",
       "      <td>0.866324</td>\n",
       "      <td>-0.158946</td>\n",
       "      <td>0.434376</td>\n",
       "      <td>0.985617</td>\n",
       "      <td>-0.238136</td>\n",
       "      <td>-0.876546</td>\n",
       "    </tr>\n",
       "    <tr>\n",
       "      <th>...</th>\n",
       "      <td>...</td>\n",
       "      <td>...</td>\n",
       "      <td>...</td>\n",
       "      <td>...</td>\n",
       "      <td>...</td>\n",
       "      <td>...</td>\n",
       "      <td>...</td>\n",
       "      <td>...</td>\n",
       "      <td>...</td>\n",
       "      <td>...</td>\n",
       "      <td>...</td>\n",
       "      <td>...</td>\n",
       "      <td>...</td>\n",
       "      <td>...</td>\n",
       "      <td>...</td>\n",
       "      <td>...</td>\n",
       "      <td>...</td>\n",
       "      <td>...</td>\n",
       "      <td>...</td>\n",
       "      <td>...</td>\n",
       "      <td>...</td>\n",
       "      <td>...</td>\n",
       "      <td>...</td>\n",
       "      <td>...</td>\n",
       "      <td>...</td>\n",
       "    </tr>\n",
       "    <tr>\n",
       "      <th>239995</th>\n",
       "      <td>5.483692</td>\n",
       "      <td>2.678686</td>\n",
       "      <td>0.174989</td>\n",
       "      <td>-1.128349</td>\n",
       "      <td>0.369795</td>\n",
       "      <td>-0.115040</td>\n",
       "      <td>1.485210</td>\n",
       "      <td>-0.388147</td>\n",
       "      <td>-0.520465</td>\n",
       "      <td>0.374325</td>\n",
       "      <td>1.132236</td>\n",
       "      <td>1.639508</td>\n",
       "      <td>-0.182483</td>\n",
       "      <td>-0.568452</td>\n",
       "      <td>0.148077</td>\n",
       "      <td>-0.432541</td>\n",
       "      <td>0.108576</td>\n",
       "      <td>0.065108</td>\n",
       "      <td>0.195627</td>\n",
       "      <td>-0.429562</td>\n",
       "      <td>-0.389201</td>\n",
       "      <td>-0.159119</td>\n",
       "      <td>0.364816</td>\n",
       "      <td>-0.567372</td>\n",
       "      <td>0.226763</td>\n",
       "    </tr>\n",
       "    <tr>\n",
       "      <th>239996</th>\n",
       "      <td>0.449857</td>\n",
       "      <td>-0.201603</td>\n",
       "      <td>-0.043488</td>\n",
       "      <td>-0.748349</td>\n",
       "      <td>-2.761877</td>\n",
       "      <td>-2.842580</td>\n",
       "      <td>-1.104331</td>\n",
       "      <td>-1.900512</td>\n",
       "      <td>1.209107</td>\n",
       "      <td>-0.559228</td>\n",
       "      <td>-0.177589</td>\n",
       "      <td>0.698229</td>\n",
       "      <td>-0.211771</td>\n",
       "      <td>0.048650</td>\n",
       "      <td>-0.505233</td>\n",
       "      <td>0.912989</td>\n",
       "      <td>-0.812685</td>\n",
       "      <td>0.286128</td>\n",
       "      <td>-0.551395</td>\n",
       "      <td>0.331244</td>\n",
       "      <td>-0.091522</td>\n",
       "      <td>-0.195466</td>\n",
       "      <td>0.176563</td>\n",
       "      <td>0.458120</td>\n",
       "      <td>0.987334</td>\n",
       "    </tr>\n",
       "    <tr>\n",
       "      <th>239997</th>\n",
       "      <td>-3.796219</td>\n",
       "      <td>-0.624134</td>\n",
       "      <td>1.269743</td>\n",
       "      <td>4.204318</td>\n",
       "      <td>0.731148</td>\n",
       "      <td>-0.523924</td>\n",
       "      <td>1.339439</td>\n",
       "      <td>-0.306905</td>\n",
       "      <td>0.376435</td>\n",
       "      <td>-0.225971</td>\n",
       "      <td>0.161891</td>\n",
       "      <td>0.078221</td>\n",
       "      <td>0.232305</td>\n",
       "      <td>0.557964</td>\n",
       "      <td>-0.101884</td>\n",
       "      <td>0.048601</td>\n",
       "      <td>0.181539</td>\n",
       "      <td>-0.325622</td>\n",
       "      <td>0.283411</td>\n",
       "      <td>0.460983</td>\n",
       "      <td>-0.326412</td>\n",
       "      <td>-0.050925</td>\n",
       "      <td>0.392701</td>\n",
       "      <td>0.018401</td>\n",
       "      <td>0.460700</td>\n",
       "    </tr>\n",
       "    <tr>\n",
       "      <th>239998</th>\n",
       "      <td>-1.655307</td>\n",
       "      <td>-0.358587</td>\n",
       "      <td>-1.575439</td>\n",
       "      <td>1.367727</td>\n",
       "      <td>2.334899</td>\n",
       "      <td>1.504091</td>\n",
       "      <td>-1.470662</td>\n",
       "      <td>1.578868</td>\n",
       "      <td>0.217903</td>\n",
       "      <td>2.403297</td>\n",
       "      <td>-1.415408</td>\n",
       "      <td>0.025421</td>\n",
       "      <td>0.075577</td>\n",
       "      <td>-2.157093</td>\n",
       "      <td>1.152074</td>\n",
       "      <td>-0.490554</td>\n",
       "      <td>1.023452</td>\n",
       "      <td>0.037346</td>\n",
       "      <td>-1.436479</td>\n",
       "      <td>0.464723</td>\n",
       "      <td>1.014884</td>\n",
       "      <td>0.320749</td>\n",
       "      <td>-0.596132</td>\n",
       "      <td>0.033628</td>\n",
       "      <td>-0.114206</td>\n",
       "    </tr>\n",
       "    <tr>\n",
       "      <th>239999</th>\n",
       "      <td>3.480177</td>\n",
       "      <td>-2.503005</td>\n",
       "      <td>3.106812</td>\n",
       "      <td>1.858987</td>\n",
       "      <td>0.804250</td>\n",
       "      <td>-0.319939</td>\n",
       "      <td>-1.048543</td>\n",
       "      <td>0.175806</td>\n",
       "      <td>-1.153449</td>\n",
       "      <td>-0.796796</td>\n",
       "      <td>1.474466</td>\n",
       "      <td>-0.128121</td>\n",
       "      <td>1.500166</td>\n",
       "      <td>-0.466541</td>\n",
       "      <td>0.512587</td>\n",
       "      <td>-0.301358</td>\n",
       "      <td>-0.579414</td>\n",
       "      <td>0.153922</td>\n",
       "      <td>0.316375</td>\n",
       "      <td>0.117653</td>\n",
       "      <td>0.590438</td>\n",
       "      <td>-0.227673</td>\n",
       "      <td>0.422550</td>\n",
       "      <td>-0.008941</td>\n",
       "      <td>-0.246084</td>\n",
       "    </tr>\n",
       "  </tbody>\n",
       "</table>\n",
       "<p>240000 rows × 25 columns</p>\n",
       "</div>"
      ],
      "text/plain": [
       "        descripcion-feature-0  descripcion-feature-1  descripcion-feature-2  \\\n",
       "0                  -11.692229               2.503089               0.519673   \n",
       "1                   -3.788801               0.484829               1.150321   \n",
       "2                    4.662774              -1.252783               1.053544   \n",
       "3                    7.633575               1.505060               0.168435   \n",
       "4                    5.814485              -0.401020               0.492635   \n",
       "...                       ...                    ...                    ...   \n",
       "239995               5.483692               2.678686               0.174989   \n",
       "239996               0.449857              -0.201603              -0.043488   \n",
       "239997              -3.796219              -0.624134               1.269743   \n",
       "239998              -1.655307              -0.358587              -1.575439   \n",
       "239999               3.480177              -2.503005               3.106812   \n",
       "\n",
       "        descripcion-feature-3  descripcion-feature-4  descripcion-feature-5  \\\n",
       "0                    1.323910              -1.039441              -1.040019   \n",
       "1                    0.877703              -1.844381               3.245395   \n",
       "2                   -1.691091              -0.615319              -0.172887   \n",
       "3                   -1.354925              -0.708616              -1.282041   \n",
       "4                    3.736059              -0.560138               3.782986   \n",
       "...                       ...                    ...                    ...   \n",
       "239995              -1.128349               0.369795              -0.115040   \n",
       "239996              -0.748349              -2.761877              -2.842580   \n",
       "239997               4.204318               0.731148              -0.523924   \n",
       "239998               1.367727               2.334899               1.504091   \n",
       "239999               1.858987               0.804250              -0.319939   \n",
       "\n",
       "        descripcion-feature-6  descripcion-feature-7  descripcion-feature-8  \\\n",
       "0                   -2.780203              -0.363929              -1.528654   \n",
       "1                    0.817782               0.693933               0.380544   \n",
       "2                    0.345634              -1.291938              -0.488919   \n",
       "3                    2.290100              -1.667372              -0.711799   \n",
       "4                   -0.949182              -1.887627               1.627066   \n",
       "...                       ...                    ...                    ...   \n",
       "239995               1.485210              -0.388147              -0.520465   \n",
       "239996              -1.104331              -1.900512               1.209107   \n",
       "239997               1.339439              -0.306905               0.376435   \n",
       "239998              -1.470662               1.578868               0.217903   \n",
       "239999              -1.048543               0.175806              -1.153449   \n",
       "\n",
       "        descripcion-feature-9  descripcion-feature-10  descripcion-feature-11  \\\n",
       "0                    1.422107                1.756427               -0.467452   \n",
       "1                   -1.052826               -0.288084               -0.633723   \n",
       "2                    1.005102               -0.811115                0.696495   \n",
       "3                    1.035094                0.934204                2.817818   \n",
       "4                    0.777200                0.760332                0.418681   \n",
       "...                       ...                     ...                     ...   \n",
       "239995               0.374325                1.132236                1.639508   \n",
       "239996              -0.559228               -0.177589                0.698229   \n",
       "239997              -0.225971                0.161891                0.078221   \n",
       "239998               2.403297               -1.415408                0.025421   \n",
       "239999              -0.796796                1.474466               -0.128121   \n",
       "\n",
       "        descripcion-feature-12  descripcion-feature-13  \\\n",
       "0                    -0.282842               -0.118984   \n",
       "1                    -1.391791               -1.388864   \n",
       "2                    -0.339239                0.473141   \n",
       "3                    -0.018554               -1.038684   \n",
       "4                     2.172269                2.563909   \n",
       "...                        ...                     ...   \n",
       "239995               -0.182483               -0.568452   \n",
       "239996               -0.211771                0.048650   \n",
       "239997                0.232305                0.557964   \n",
       "239998                0.075577               -2.157093   \n",
       "239999                1.500166               -0.466541   \n",
       "\n",
       "        descripcion-feature-14  descripcion-feature-15  \\\n",
       "0                     0.237997                1.189590   \n",
       "1                    -0.082455               -0.280055   \n",
       "2                    -0.097444               -0.483784   \n",
       "3                     0.691927               -0.995883   \n",
       "4                    -0.040549                1.485764   \n",
       "...                        ...                     ...   \n",
       "239995                0.148077               -0.432541   \n",
       "239996               -0.505233                0.912989   \n",
       "239997               -0.101884                0.048601   \n",
       "239998                1.152074               -0.490554   \n",
       "239999                0.512587               -0.301358   \n",
       "\n",
       "        descripcion-feature-16  descripcion-feature-17  \\\n",
       "0                    -0.400355                0.528403   \n",
       "1                    -1.206187               -0.591297   \n",
       "2                    -0.206538                0.331479   \n",
       "3                    -0.294871               -0.309800   \n",
       "4                    -0.675824                1.515152   \n",
       "...                        ...                     ...   \n",
       "239995                0.108576                0.065108   \n",
       "239996               -0.812685                0.286128   \n",
       "239997                0.181539               -0.325622   \n",
       "239998                1.023452                0.037346   \n",
       "239999               -0.579414                0.153922   \n",
       "\n",
       "        descripcion-feature-18  descripcion-feature-19  \\\n",
       "0                    -0.267933                0.063858   \n",
       "1                     1.061093                0.069538   \n",
       "2                     0.599825               -0.153530   \n",
       "3                    -0.370264               -0.600472   \n",
       "4                    -0.493995                0.866324   \n",
       "...                        ...                     ...   \n",
       "239995                0.195627               -0.429562   \n",
       "239996               -0.551395                0.331244   \n",
       "239997                0.283411                0.460983   \n",
       "239998               -1.436479                0.464723   \n",
       "239999                0.316375                0.117653   \n",
       "\n",
       "        descripcion-feature-20  descripcion-feature-21  \\\n",
       "0                     0.199827                0.605335   \n",
       "1                    -0.709585               -0.157409   \n",
       "2                    -0.170633                0.299281   \n",
       "3                    -0.006817               -0.389981   \n",
       "4                    -0.158946                0.434376   \n",
       "...                        ...                     ...   \n",
       "239995               -0.389201               -0.159119   \n",
       "239996               -0.091522               -0.195466   \n",
       "239997               -0.326412               -0.050925   \n",
       "239998                1.014884                0.320749   \n",
       "239999                0.590438               -0.227673   \n",
       "\n",
       "        descripcion-feature-22  descripcion-feature-23  descripcion-feature-24  \n",
       "0                    -0.159274               -0.182673                0.098831  \n",
       "1                    -0.199224               -0.197963                0.198450  \n",
       "2                     0.460262                0.225551               -0.143891  \n",
       "3                     0.200636                0.044455               -0.044037  \n",
       "4                     0.985617               -0.238136               -0.876546  \n",
       "...                        ...                     ...                     ...  \n",
       "239995                0.364816               -0.567372                0.226763  \n",
       "239996                0.176563                0.458120                0.987334  \n",
       "239997                0.392701                0.018401                0.460700  \n",
       "239998               -0.596132                0.033628               -0.114206  \n",
       "239999                0.422550               -0.008941               -0.246084  \n",
       "\n",
       "[240000 rows x 25 columns]"
      ]
     },
     "execution_count": 71,
     "metadata": {},
     "output_type": "execute_result"
    }
   ],
   "source": [
    "pepe_pca = pd.DataFrame(pepe_pca)\n",
    "pepe_pca.rename(columns={x:str(f\"descripcion-feature-{y}\") for x,y in zip(pepe_pca.columns,range(0,len(pepe_pca.columns)))}, inplace=True)\n",
    "pepe_pca\n"
   ]
  },
  {
   "cell_type": "code",
   "execution_count": 73,
   "metadata": {},
   "outputs": [],
   "source": [
    "pepe_pca.to_csv('../data/word-features-reduced.csv', index=False)"
   ]
  },
  {
   "cell_type": "code",
   "execution_count": null,
   "metadata": {},
   "outputs": [],
   "source": []
  }
 ],
 "metadata": {
  "kernelspec": {
   "display_name": "Python 3",
   "language": "python",
   "name": "python3"
  },
  "language_info": {
   "codemirror_mode": {
    "name": "ipython",
    "version": 3
   },
   "file_extension": ".py",
   "mimetype": "text/x-python",
   "name": "python",
   "nbconvert_exporter": "python",
   "pygments_lexer": "ipython3",
   "version": "3.7.4"
  }
 },
 "nbformat": 4,
 "nbformat_minor": 2
}
