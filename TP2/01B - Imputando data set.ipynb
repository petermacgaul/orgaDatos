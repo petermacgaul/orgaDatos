{
 "cells": [
  {
   "cell_type": "code",
   "execution_count": 2,
   "metadata": {},
   "outputs": [],
   "source": [
    "import lightgbm as lgb\n",
    "from sklearn import metrics\n",
    "import category_encoders as ce\n",
    "\n",
    "from sklearn.preprocessing import Imputer\n",
    "from sklearn.model_selection import train_test_split\n",
    "\n",
    "import pandas as pd\n",
    "import numpy as np\n",
    "import xgboost as xgb\n",
    "\n",
    "from sklearn.impute import SimpleImputer\n",
    "from sklearn.preprocessing import MinMaxScaler"
   ]
  },
  {
   "cell_type": "code",
   "execution_count": 3,
   "metadata": {},
   "outputs": [],
   "source": [
    "df = pd.read_csv('../data/train.csv',dtype={'tipodepropiedad':'category','ciudad':'category','provincia':'category'})\n",
    "df['fecha'] = pd.to_datetime(df['fecha'])\n",
    "df['anio'] = df['fecha'].dt.year\n",
    "df[\"mes\"] = df['fecha'].dt.month\n",
    "df[\"dia\"] = df['fecha'].dt.day\n",
    "\n",
    "df = df.drop(columns=[\"lat\",\"lng\"])"
   ]
  },
  {
   "cell_type": "markdown",
   "metadata": {},
   "source": [
    "# Funciones a utilizar"
   ]
  },
  {
   "cell_type": "code",
   "execution_count": 4,
   "metadata": {},
   "outputs": [],
   "source": [
    "def imputar(df,cols):\n",
    "    imp = SimpleImputer()\n",
    "    df_result = df.copy()\n",
    "    for x in cols:\n",
    "        df_result[x]=imp.fit_transform(df[[x]])\n",
    "    return df_result"
   ]
  },
  {
   "cell_type": "code",
   "execution_count": 5,
   "metadata": {},
   "outputs": [],
   "source": [
    "def normalizar(df):\n",
    "    min_max_scaler = MinMaxScaler()\n",
    "    cols = df._get_numeric_data().columns\n",
    "    sub_df = df[cols]\n",
    "    res = df.drop(columns=cols)\n",
    "    x_scaled = min_max_scaler.fit_transform(sub_df)\n",
    "    x_scaled = pd.DataFrame(x_scaled,columns=cols)\n",
    "    return res.join(x_scaled)"
   ]
  },
  {
   "cell_type": "code",
   "execution_count": 6,
   "metadata": {},
   "outputs": [],
   "source": [
    "import re\n",
    "def contiene_frase(texto, frase):\n",
    "    if re.search(frase, texto,re.IGNORECASE):\n",
    "        return True\n",
    "    return False\n",
    "\n",
    "contiene_frase=np.vectorize(contiene_frase)"
   ]
  },
  {
   "cell_type": "code",
   "execution_count": 7,
   "metadata": {},
   "outputs": [],
   "source": [
    "def cantidad_de_public(data,colum,palabra):\n",
    "    return data[contiene_frase(data[colum],palabra)].dia.count()\n",
    "\n",
    "def serie_que_contiene_palabra(data,colum,palabra):\n",
    "        return contiene_frase(data[colum],palabra)"
   ]
  },
  {
   "cell_type": "markdown",
   "metadata": {},
   "source": [
    "## Completo los datos faltantes"
   ]
  },
  {
   "cell_type": "code",
   "execution_count": 8,
   "metadata": {},
   "outputs": [],
   "source": [
    "imp = SimpleImputer(strategy=\"constant\")\n",
    "\n",
    "df[\"provincia\"] = imp.fit_transform(df[[\"provincia\"]])\n",
    "df[\"ciudad\"] = imp.fit_transform(df[[\"ciudad\"]])"
   ]
  },
  {
   "cell_type": "code",
   "execution_count": 9,
   "metadata": {},
   "outputs": [],
   "source": [
    "df['ciudad-provincia'] = df[['ciudad', 'provincia']].apply(lambda x: ', '.join(x), axis=1)"
   ]
  },
  {
   "cell_type": "code",
   "execution_count": 10,
   "metadata": {},
   "outputs": [],
   "source": [
    "#Columnas numericas\n",
    "data_cols = df._get_numeric_data().columns\n",
    "\n",
    "#Completo los nulos\n",
    "df = imputar(df,data_cols)\n",
    "\n",
    "\n",
    "#Normalizo pero --> Hay veces que no me conviene\n",
    "\n",
    "#df = normalizar(df)"
   ]
  },
  {
   "cell_type": "markdown",
   "metadata": {},
   "source": [
    " ## Genero los encodes\n"
   ]
  },
  {
   "cell_type": "code",
   "execution_count": 11,
   "metadata": {},
   "outputs": [],
   "source": [
    "oneHot = ['tipodepropiedad','provincia']\n",
    "label = ['ciudad','ciudad-provincia']\n",
    "\n",
    "encoder = ce.OneHotEncoder()\n",
    "\n",
    "encoded = encoder.fit_transform(df[oneHot])\n",
    "data = df.join(encoded)\n",
    "\n",
    "encoder = ce.BinaryEncoder()\n",
    "\n",
    "encoded = encoder.fit_transform(df[label])\n",
    "data = data.join(encoded)"
   ]
  },
  {
   "cell_type": "code",
   "execution_count": 12,
   "metadata": {},
   "outputs": [],
   "source": [
    "df = data"
   ]
  },
  {
   "cell_type": "code",
   "execution_count": 30,
   "metadata": {},
   "outputs": [],
   "source": [
    "df.to_csv(\"../data/dataset_imputado.csv\", index=False)"
   ]
  },
  {
   "cell_type": "code",
   "execution_count": null,
   "metadata": {},
   "outputs": [],
   "source": []
  }
 ],
 "metadata": {
  "kernelspec": {
   "display_name": "Python 3",
   "language": "python",
   "name": "python3"
  },
  "language_info": {
   "codemirror_mode": {
    "name": "ipython",
    "version": 3
   },
   "file_extension": ".py",
   "mimetype": "text/x-python",
   "name": "python",
   "nbconvert_exporter": "python",
   "pygments_lexer": "ipython3",
   "version": "3.7.5rc1"
  }
 },
 "nbformat": 4,
 "nbformat_minor": 2
}
