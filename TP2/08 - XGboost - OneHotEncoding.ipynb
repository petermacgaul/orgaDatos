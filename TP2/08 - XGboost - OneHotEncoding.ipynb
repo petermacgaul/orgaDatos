{
 "cells": [
  {
   "cell_type": "code",
   "execution_count": 1,
   "metadata": {},
   "outputs": [],
   "source": [
    "import lightgbm as lgb\n",
    "from sklearn import metrics\n",
    "import category_encoders as ce\n",
    "\n",
    "from sklearn.model_selection import train_test_split\n",
    "from sklearn.ensemble import RandomForestRegressor\n",
    "from sklearn.metrics import mean_absolute_error\n",
    "\n",
    "from sklearn.model_selection import GridSearchCV\n",
    "from sklearn.model_selection import RandomizedSearchCV\n",
    "\n",
    "import matplotlib.pyplot as plt\n",
    "from sklearn.impute import SimpleImputer\n",
    "from sklearn.preprocessing import LabelEncoder\n",
    "\n",
    "import pandas as pd\n",
    "import numpy as np\n",
    "from xgboost import XGBRegressor"
   ]
  },
  {
   "cell_type": "code",
   "execution_count": 2,
   "metadata": {},
   "outputs": [],
   "source": [
    "df = pd.read_csv('../data/features.csv',dtype={'tipodepropiedad':'category','ciudad':'category','provincia':'category'})\n",
    "df['fecha'] = pd.to_datetime(df['fecha'])\n",
    "df['anio'] = df['fecha'].dt.year\n",
    "df[\"mes\"] = df['fecha'].dt.month\n",
    "df[\"dia\"] = df['fecha'].dt.day"
   ]
  },
  {
   "cell_type": "code",
   "execution_count": 4,
   "metadata": {},
   "outputs": [],
   "source": [
    "df = df.drop(columns=[\"direccion\",\"id\",\"descripcion\",\"titulo\"])\n",
    "#\"lat\",\"lng\","
   ]
  },
  {
   "cell_type": "code",
   "execution_count": 5,
   "metadata": {},
   "outputs": [],
   "source": [
    "def imputar(df):\n",
    "    imp = SimpleImputer()\n",
    "    cols = df._get_numeric_data().columns\n",
    "    df_result = df.copy()\n",
    "    for x in cols:\n",
    "        df_result[x]=imp.fit_transform(df[[x]])\n",
    "    return df_result"
   ]
  },
  {
   "cell_type": "code",
   "execution_count": 6,
   "metadata": {},
   "outputs": [],
   "source": [
    "df1 = imputar(df)\n",
    "\n",
    "oneHot = ['tipodepropiedad','provincia']\n",
    "label = ['ciudad']\n",
    "\n",
    "cat_features = ['ciudad','tipodepropiedad','provincia']\n",
    "\n",
    "df1 = df1.dropna(subset=cat_features)"
   ]
  },
  {
   "cell_type": "code",
   "execution_count": 7,
   "metadata": {},
   "outputs": [],
   "source": [
    "def predecir(model, train_features, train_labels, test_features, test_labels):\n",
    "    predict = model.score(test_features,test_labels)\n",
    "    print('Entrenamiento: {:0.4f}%'.format(model.score(train_features, train_labels)*100))\n",
    "    print('Testeo: {:0.4f}%.'.format(predict*100))\n",
    "    \n",
    "    return predict"
   ]
  },
  {
   "cell_type": "code",
   "execution_count": 30,
   "metadata": {},
   "outputs": [
    {
     "name": "stderr",
     "output_type": "stream",
     "text": [
      "/home/peter/.local/lib/python3.7/site-packages/sklearn/preprocessing/label.py:235: DataConversionWarning: A column-vector y was passed when a 1d array was expected. Please change the shape of y to (n_samples, ), for example using ravel().\n",
      "  y = column_or_1d(y, warn=True)\n"
     ]
    },
    {
     "name": "stdout",
     "output_type": "stream",
     "text": [
      "Original shapes: X=(239954, 87) y=(239954,)\n",
      "Train shapes: X=(191963, 87) y=(191963,)\n",
      "Test  shapes: X=(47991, 87)  y=(47991,)\n"
     ]
    }
   ],
   "source": [
    "data_cols = df1._get_numeric_data().columns\n",
    "baseline_data = df1[data_cols]\n",
    "\n",
    "encoder = ce.OneHotEncoder()\n",
    "\n",
    "encoded = encoder.fit_transform(df1[oneHot])\n",
    "data = baseline_data.join(encoded)\n",
    "\n",
    "encoder = LabelEncoder()\n",
    "\n",
    "encoded = encoder.fit_transform(df1[label])\n",
    "data[\"ciudad\"] = encoded\n",
    "\n",
    "x = data[data.columns.drop(\"precio\")]\n",
    "y = data['precio']\n",
    "\n",
    "x_train, x_test, y_train, y_test = train_test_split(x, y, test_size=0.20)\n",
    "\n",
    "print(f\"Original shapes: X={x.shape} y={y.shape}\")\n",
    "print(f\"Train shapes: X={x_train.shape} y={y_train.shape}\")\n",
    "print(f\"Test  shapes: X={x_test.shape}  y={y_test.shape}\")"
   ]
  },
  {
   "cell_type": "code",
   "execution_count": 31,
   "metadata": {},
   "outputs": [],
   "source": [
    "xgb_model = XGBRegressor(n_estimatos=100,max_depth=10,n_jobs=-1,objective=\"reg:squarederror\")\n"
   ]
  },
  {
   "cell_type": "code",
   "execution_count": null,
   "metadata": {},
   "outputs": [],
   "source": [
    "xgb_model.fit(x_train, y_train)"
   ]
  },
  {
   "cell_type": "code",
   "execution_count": null,
   "metadata": {},
   "outputs": [],
   "source": [
    "predecir(xgb_model,x_train,y_train,x_test,y_test)"
   ]
  },
  {
   "cell_type": "code",
   "execution_count": null,
   "metadata": {},
   "outputs": [],
   "source": [
    "plt.rcParams[\"figure.figsize\"] = [5, 15]\n",
    "\n",
    "importancia = xgb_model.feature_importances_\n",
    "ax = plt.barh(x.columns, xgb_model.feature_importances_)"
   ]
  },
  {
   "cell_type": "code",
   "execution_count": null,
   "metadata": {},
   "outputs": [],
   "source": []
  }
 ],
 "metadata": {
  "kernelspec": {
   "display_name": "Python 3",
   "language": "python",
   "name": "python3"
  },
  "language_info": {
   "codemirror_mode": {
    "name": "ipython",
    "version": 3
   },
   "file_extension": ".py",
   "mimetype": "text/x-python",
   "name": "python",
   "nbconvert_exporter": "python",
   "pygments_lexer": "ipython3",
   "version": "3.7.5rc1"
  }
 },
 "nbformat": 4,
 "nbformat_minor": 2
}
